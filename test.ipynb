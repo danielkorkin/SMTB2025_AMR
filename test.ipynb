{
 "cells": [
  {
   "cell_type": "code",
   "execution_count": null,
   "id": "8c8bee0d",
   "metadata": {},
   "outputs": [],
   "source": [
    "import pandas as pd\n",
    "import plotly.express as px\n",
    "from pathlib import Path"
   ]
  },
  {
   "cell_type": "code",
   "execution_count": null,
   "id": "426b76bd",
   "metadata": {},
   "outputs": [],
   "source": [
    "p = Path(\"logs\")\n",
    "all_metrics = {}\n",
    "for i in p.glob(\"*\"):\n",
    "    metrics = pd.read_csv(i / \"version_0\" / \"metrics.csv\")\n",
    "    metrics = metrics.groupby(\"epoch\").mean().reset_index()\n",
    "    metrics = metrics[[\"epoch\", \"train_mcc\", \"val_mcc\"]]\n",
    "    all_metrics[str(i.name)] = metrics\n",
    "import plotly.graph_objects as go\n",
    "\n",
    "fig = go.Figure()\n",
    "for name, metrics in all_metrics.items():\n",
    "    # fig.add_trace(\n",
    "    #     go.Scatter(\n",
    "    #         x=metrics[\"epoch\"],\n",
    "    #         y=metrics[\"train_mcc\"],\n",
    "    #         mode=\"lines+markers\",\n",
    "    #         name=f\"{name} train\",\n",
    "    #         line=dict(dash=\"dash\"),\n",
    "    #     )\n",
    "    # )\n",
    "    fig.add_trace(\n",
    "        go.Scatter(\n",
    "            x=metrics[\"epoch\"],\n",
    "            y=metrics[\"val_mcc\"],\n",
    "            mode=\"lines+markers\",\n",
    "            name=f\"{name} val\",\n",
    "        )\n",
    "    )\n",
    "fig.update_layout(width=1200, height=1000)\n",
    "fig.show()"
   ]
  },
  {
   "cell_type": "code",
   "execution_count": null,
   "id": "4517ab8f",
   "metadata": {},
   "outputs": [],
   "source": [
    "\n",
    "metrics = pd.read_csv(\"logs/my_model/version_2/metrics.csv\")\n",
    "metrics = metrics.groupby(\"epoch\").mean().reset_index()\n",
    "metric = \"mcc\"\n",
    "px.line(metrics, x=\"epoch\", y=[f\"train_{metric}\", f\"val_{metric}\"]).show()"
   ]
  },
  {
   "cell_type": "code",
   "execution_count": null,
   "id": "b1fe92b8",
   "metadata": {},
   "outputs": [],
   "source": [
    "import pandas as pd"
   ]
  },
  {
   "cell_type": "code",
   "execution_count": null,
   "id": "71f3190c",
   "metadata": {},
   "outputs": [],
   "source": [
    "genotype_file = f\"/srv/scratch/AMR/Reduced_genotype/Klebsiella_pneumoniae_reduced_genotype.tsv\"\n",
    "phenotype_file = f\"/srv/scratch/AMR/IR_phenotype/Klebsiella_pneumoniae/phenotype.txt\"\n",
    "\n",
    "x = pd.read_csv(genotype_file, sep=\"\\t\", index_col=0)\n",
    "p"
   ]
  },
  {
   "cell_type": "code",
   "execution_count": null,
   "id": "4418937c",
   "metadata": {},
   "outputs": [],
   "source": []
  }
 ],
 "metadata": {
  "kernelspec": {
   "display_name": "esm",
   "language": "python",
   "name": "python3"
  },
  "language_info": {
   "codemirror_mode": {
    "name": "ipython",
    "version": 3
   },
   "file_extension": ".py",
   "mimetype": "text/x-python",
   "name": "python",
   "nbconvert_exporter": "python",
   "pygments_lexer": "ipython3"
  }
 },
 "nbformat": 4,
 "nbformat_minor": 5
}
