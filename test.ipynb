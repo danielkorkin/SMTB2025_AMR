{
 "cells": [
  {
   "cell_type": "code",
   "execution_count": 12,
   "id": "8c8bee0d",
   "metadata": {},
   "outputs": [],
   "source": [
    "import pandas as pd\n",
    "import plotly.express as px\n",
    "from pathlib import Path"
   ]
  },
  {
   "cell_type": "code",
   "execution_count": 13,
   "id": "426b76bd",
   "metadata": {},
   "outputs": [
    {
     "data": {
      "application/vnd.plotly.v1+json": {
       "config": {
        "plotlyServerURL": "https://plot.ly"
       },
       "data": [
        {
         "mode": "lines+markers",
         "name": "Campylobacter_jejuni val",
         "type": "scatter",
         "x": {
          "bdata": "AAAAAAAAAAAAAAAAAADwPwAAAAAAAABAAAAAAAAACEAAAAAAAAAQQAAAAAAAABRAAAAAAAAAGEAAAAAAAAAcQAAAAAAAACBAAAAAAAAAIkAAAAAAAAAkQAAAAAAAACZAAAAAAAAAKEAAAAAAAAAqQAAAAAAAACxAAAAAAAAALkAAAAAAAAAwQAAAAAAAADFAAAAAAAAAMkAAAAAAAAAzQAAAAAAAADRAAAAAAAAANUAAAAAAAAA2QAAAAAAAADdAAAAAAAAAOEAAAAAAAAA5QAAAAAAAADpAAAAAAAAAO0AAAAAAAAA8QAAAAAAAAD1AAAAAAAAAPkAAAAAAAAA/QAAAAAAAAEBAAAAAAACAQEAAAAAAAABBQAAAAAAAgEFAAAAAAAAAQkAAAAAAAIBCQAAAAAAAAENAAAAAAACAQ0AAAAAAAABEQAAAAAAAgERAAAAAAAAARUAAAAAAAIBFQAAAAAAAAEZAAAAAAACARkAAAAAAAABHQAAAAAAAgEdAAAAAAAAASEAAAAAAAIBIQAAAAAAAAElA",
          "dtype": "f8"
         },
         "y": {
          "bdata": "AAAAgAOy6D8AAABgoUPmPwAAAAAAAPA/AAAAAAAA8D8AAAAAAADwPwAAAAAAAPA/AAAAAAAA8D8AAAAAAADwPwAAAAAAAPA/AAAAAAAA8D8AAAAAAADwPwAAAAAAAPA/AAAAAAAA8D8AAAAAAADwPwAAAAAAAPA/AAAAAAAA8D8AAAAAAADwPwAAAAAAAPA/AAAAAAAA8D8AAAAAAADwPwAAAAAAAPA/AAAAAAAA8D8AAAAAAADwPwAAAAAAAPA/AAAAAAAA8D8AAAAAAADwPwAAAAAAAPA/AAAAAAAA8D8AAAAAAADwPwAAAAAAAPA/AAAAAAAA8D8AAAAAAADwPwAAAAAAAPA/AAAAAAAA8D8AAAAAAADwPwAAAAAAAPA/AAAAAAAA8D8AAAAAAADwPwAAAAAAAPA/AAAAAAAA8D8AAAAAAADwPwAAAAAAAPA/AAAAAAAA8D8AAAAAAADwPwAAAAAAAPA/AAAAAAAA8D8AAAAAAADwPwAAAAAAAPA/AAAAAAAA8D8AAAAAAADwPwAAAAAAAPh/",
          "dtype": "f8"
         }
        },
        {
         "mode": "lines+markers",
         "name": "Streptococcus_pneumoniae val",
         "type": "scatter",
         "x": {
          "bdata": "AAAAAAAAAAAAAAAAAADwPwAAAAAAAABAAAAAAAAACEAAAAAAAAAQQAAAAAAAABRAAAAAAAAAGEAAAAAAAAAcQAAAAAAAACBAAAAAAAAAIkAAAAAAAAAkQAAAAAAAACZAAAAAAAAAKEAAAAAAAAAqQAAAAAAAACxAAAAAAAAALkAAAAAAAAAwQAAAAAAAADFAAAAAAAAAMkAAAAAAAAAzQAAAAAAAADRAAAAAAAAANUAAAAAAAAA2QAAAAAAAADdAAAAAAAAAOEAAAAAAAAA5QAAAAAAAADpAAAAAAAAAO0AAAAAAAAA8QAAAAAAAAD1AAAAAAAAAPkAAAAAAAAA/QAAAAAAAAEBAAAAAAACAQEAAAAAAAABBQAAAAAAAgEFAAAAAAAAAQkAAAAAAAIBCQAAAAAAAAENAAAAAAACAQ0AAAAAAAABEQAAAAAAAgERAAAAAAAAARUAAAAAAAIBFQAAAAAAAAEZAAAAAAACARkAAAAAAAABHQAAAAAAAgEdAAAAAAAAASEAAAAAAAIBIQAAAAAAAAElA",
          "dtype": "f8"
         },
         "y": {
          "bdata": "AAAAIK3P6j8AAACgO/3pPwAAAIAvDOk/AAAAoDv96T8AAACgO/3pPwAAACA4r+g/AAAAIDiv6D8AAABA+/LqPwAAAGBquOs/AAAAQGTA7D8BAAAA7vTuPwAAAADO6O0/AAAAAAAA8D8AAAAAzujtPwAAAAAAAPA/AAAAAAAA8D8AAAAAAADwPwAAAAAAAPA/AAAAAAAA8D8AAAAAAADwPwAAAAAAAPA/AAAAAAAA8D8AAAAAAADwPwAAAAAAAPA/AAAAAAAA8D8AAAAAAADwPwAAAAAAAPA/AAAAAAAA8D8AAAAAAADwPwAAAAAAAPA/AAAAAAAA8D8AAAAAAADwPwAAAAAAAPA/AAAAAAAA8D8AAAAAAADwPwAAAAAAAPA/AAAAAAAA8D8AAAAAAADwPwAAAAAAAPA/AAAAAAAA8D8AAAAAAADwPwAAAAAAAPA/AAAAAAAA8D8AAAAAAADwPwAAAAAAAPA/AAAAAAAA8D8AAAAAAADwPwAAAAAAAPA/AAAAAAAA8D8AAAAAAADwPwAAAAAAAPh/",
          "dtype": "f8"
         }
        },
        {
         "mode": "lines+markers",
         "name": "Acinetobacter_baumannii val",
         "type": "scatter",
         "x": {
          "bdata": "AAAAAAAAAAAAAAAAAADwPwAAAAAAAABAAAAAAAAACEAAAAAAAAAQQAAAAAAAABRAAAAAAAAAGEAAAAAAAAAcQAAAAAAAACBAAAAAAAAAIkAAAAAAAAAkQAAAAAAAACZAAAAAAAAAKEAAAAAAAAAqQAAAAAAAACxAAAAAAAAALkAAAAAAAAAwQAAAAAAAADFAAAAAAAAAMkAAAAAAAAAzQAAAAAAAADRAAAAAAAAANUAAAAAAAAA2QAAAAAAAADdAAAAAAAAAOEAAAAAAAAA5QAAAAAAAADpAAAAAAAAAO0AAAAAAAAA8QAAAAAAAAD1AAAAAAAAAPkAAAAAAAAA/QAAAAAAAAEBAAAAAAACAQEAAAAAAAABBQAAAAAAAgEFAAAAAAAAAQkAAAAAAAIBCQAAAAAAAAENAAAAAAACAQ0AAAAAAAABEQAAAAAAAgERAAAAAAAAARUAAAAAAAIBFQAAAAAAAAEZAAAAAAACARkAAAAAAAABHQAAAAAAAgEdAAAAAAAAASEAAAAAAAIBIQAAAAAAAAElA",
          "dtype": "f8"
         },
         "y": {
          "bdata": "AAAAYGX+0D8AAABgZf7QPwAAAIAr5uE/AAAAgCvm4T8AAACAK+bhPwAAAMBACeI/AAAAoMvX4z8AAADAQAniPwAAAKDL1+M/AAAAoMvX4z8AAACgjaLlPwAAACDDZuY/AAAAIPb96T8AAAAg9v3pPwAAACD2/ek/AAAAIPb96T8AAAAgw2bmPwAAAECFMeg/AAAAIMNm5j8AAAAgvwPqPwAAAECFMeg/AAAAQIUx6D8AAADg7VDrPwAAAECFMeg/AAAAIL8D6j8AAAAgvwPqPwAAACC/A+o/AAAAIL8D6j8AAAAgvwPqPwAAACC/A+o/AAAA4O1Q6z8AAAAgvwPqPwAAACC/A+o/AAAAIL8D6j8AAAAgvwPqPwAAACC/A+o/AAAAIL8D6j8AAAAgvwPqPwAAACC/A+o/AAAAIL8D6j8AAAAgvwPqPwAAACC/A+o/AAAAIL8D6j8AAAAgvwPqPwAAACC/A+o/AAAAIL8D6j8AAAAgvwPqPwAAACC/A+o/AAAAIL8D6j8AAAAgvwPqPwAAAAAAAPh/",
          "dtype": "f8"
         }
        },
        {
         "mode": "lines+markers",
         "name": "Pseudomonas_aeruginosa val",
         "type": "scatter",
         "x": {
          "bdata": "AAAAAAAAAAAAAAAAAADwPwAAAAAAAABAAAAAAAAACEAAAAAAAAAQQAAAAAAAABRAAAAAAAAAGEAAAAAAAAAcQAAAAAAAACBAAAAAAAAAIkAAAAAAAAAkQAAAAAAAACZAAAAAAAAAKEAAAAAAAAAqQAAAAAAAACxAAAAAAAAALkAAAAAAAAAwQAAAAAAAADFAAAAAAAAAMkAAAAAAAAAzQAAAAAAAADRAAAAAAAAANUAAAAAAAAA2QAAAAAAAADdAAAAAAAAAOEAAAAAAAAA5QAAAAAAAADpAAAAAAAAAO0AAAAAAAAA8QAAAAAAAAD1AAAAAAAAAPkAAAAAAAAA/QAAAAAAAAEBAAAAAAACAQEAAAAAAAABBQAAAAAAAgEFAAAAAAAAAQkAAAAAAAIBCQAAAAAAAAENAAAAAAACAQ0AAAAAAAABEQAAAAAAAgERAAAAAAAAARUAAAAAAAIBFQAAAAAAAAEZAAAAAAACARkAAAAAAAABHQAAAAAAAgEdAAAAAAAAASEAAAAAAAIBIQAAAAAAAAElA",
          "dtype": "f8"
         },
         "y": {
          "bdata": "/v//X5WDsj8AAABACAjCP/////+oCNw/////H+Fd2D8AAADAVLThPwAAAGDm0+M/AAAA4Lxs4D8AAADgieTiPwAAAAC7OeU/AAAAgF5K5D8AAADgieTiPwAAAODrSOY/AAAA4ODe5D8AAADg4N7kPwAAAIAwP+U/AAAAQJQI5j8AAABgkJzlPwAAAIAwP+U/AAAAINTL4z8AAADAYofnPwAAAMBEO+U/AAAAgPKw5j8AAACA8rDmPwAAAMBih+c/AAAAgDA/5T8AAACA8rDmPwAAAIDysOY/AAAAgDA/5T8AAACAMD/lPwAAAIAwP+U/AAAAgDA/5T8AAACAMD/lPwAAAIAwP+U/AAAAgPKw5j8AAACA8rDmPwAAAIAwP+U/AAAAgDA/5T8AAACAMD/lPwAAAIAwP+U/AAAAgDA/5T8AAACAMD/lPwAAAIAwP+U/AAAAgDA/5T8AAACAMD/lPwAAAIAwP+U/AAAAgDA/5T8AAACAMD/lPwAAAIAwP+U/AAAAgDA/5T8AAACAMD/lPwAAAAAAAPh/",
          "dtype": "f8"
         }
        },
        {
         "mode": "lines+markers",
         "name": "Salmonella_enterica val",
         "type": "scatter",
         "x": {
          "bdata": "AAAAAAAAAAAAAAAAAADwPwAAAAAAAABAAAAAAAAACEAAAAAAAAAQQAAAAAAAABRAAAAAAAAAGEAAAAAAAAAcQAAAAAAAACBAAAAAAAAAIkAAAAAAAAAkQAAAAAAAACZAAAAAAAAAKEAAAAAAAAAqQAAAAAAAACxAAAAAAAAALkAAAAAAAAAwQAAAAAAAADFAAAAAAAAAMkAAAAAAAAAzQAAAAAAAADRAAAAAAAAANUAAAAAAAAA2QAAAAAAAADdAAAAAAAAAOEAAAAAAAAA5QAAAAAAAADpAAAAAAAAAO0AAAAAAAAA8QAAAAAAAAD1AAAAAAAAAPkAAAAAAAAA/QAAAAAAAAEBAAAAAAACAQEAAAAAAAABBQAAAAAAAgEFAAAAAAAAAQkAAAAAAAIBCQAAAAAAAAENAAAAAAACAQ0AAAAAAAABEQAAAAAAAgERAAAAAAAAARUAAAAAAAIBFQAAAAAAAAEZAAAAAAACARkAAAAAAAABHQAAAAAAAgEdAAAAAAAAASEAAAAAAAIBIQAAAAAAAAElA",
          "dtype": "f8"
         },
         "y": {
          "bdata": "AAAA4Gtr1j8AAADAg/noPwAAAMClAe8/AAAAwKUB7z8AAADApQHvPwAAAMClAe8/AAAAwKUB7z////9fONnuP////1842e4/////XzjZ7j////9fONnuP////1842e4/AAAAAAAA8D////9fONnuP////1842e4/////XzjZ7j////9fONnuP////1842e4/AAAAwH7V7T8AAADAftXtPwAAAMB+1e0/////XzjZ7j////9fONnuP////1842e4/////XzjZ7j////9fONnuP////1842e4/////XzjZ7j////9fONnuP////1842e4/////XzjZ7j////9fONnuP////1842e4/////XzjZ7j////9fONnuP////1842e4/////XzjZ7j////9fONnuP////1842e4/////XzjZ7j////9fONnuP////1842e4/////XzjZ7j////9fONnuP////1842e4/////XzjZ7j////9fONnuP////1842e4/////XzjZ7j////9fONnuPwAAAAAAAPh/",
          "dtype": "f8"
         }
        },
        {
         "mode": "lines+markers",
         "name": "Neisseria_gonorrhoeae val",
         "type": "scatter",
         "x": {
          "bdata": "AAAAAAAAAAAAAAAAAADwPwAAAAAAAABAAAAAAAAACEAAAAAAAAAQQAAAAAAAABRAAAAAAAAAGEAAAAAAAAAcQAAAAAAAACBAAAAAAAAAIkAAAAAAAAAkQAAAAAAAACZAAAAAAAAAKEAAAAAAAAAqQAAAAAAAACxAAAAAAAAALkAAAAAAAAAwQAAAAAAAADFAAAAAAAAAMkAAAAAAAAAzQAAAAAAAADRAAAAAAAAANUAAAAAAAAA2QAAAAAAAADdAAAAAAAAAOEAAAAAAAAA5QAAAAAAAADpAAAAAAAAAO0AAAAAAAAA8QAAAAAAAAD1AAAAAAAAAPkAAAAAAAAA/QAAAAAAAAEBAAAAAAACAQEAAAAAAAABBQAAAAAAAgEFAAAAAAAAAQkAAAAAAAIBCQAAAAAAAAENAAAAAAACAQ0AAAAAAAABEQAAAAAAAgERAAAAAAAAARUAAAAAAAIBFQAAAAAAAAEZAAAAAAACARkAAAAAAAABHQAAAAAAAgEdAAAAAAAAASEAAAAAAAIBIQAAAAAAAAElA",
          "dtype": "f8"
         },
         "y": {
          "bdata": "+v//H2LlvT8AAABgAqTlPwAAAKC/j+Y/AAAAQEWS5j8AAACA2nnpPwAAAGDVbuk/AAAAwLuC6D8AAABA20PqPwAAAEDbQ+o/AAAAQNtD6j8AAABAQYjpPwAAAGB6New/AAAAoEey6D8AAADA3HrmPwAAAEBBiOk/AAAAoHoD6D8AAADAr0vrPwAAAMCvS+s/AAAAwK9L6z8AAADAr0vrPwAAAMCvS+s/AAAAwK9L6z8AAAAAll/qPwAAAACWX+o/AAAAAJZf6j8AAAAAll/qPwAAAACWX+o/AAAAAJZf6j8AAAAAll/qPwAAAACWX+o/AAAAAJZf6j8AAAAAll/qPwAAAACWX+o/AAAAAJZf6j8AAAAAll/qPwAAAACWX+o/AAAAAJZf6j8AAAAAll/qPwAAAACWX+o/AAAAAJZf6j8AAAAAll/qPwAAAACWX+o/AAAAAJZf6j8AAAAAll/qPwAAAACWX+o/AAAAAJZf6j8AAAAAll/qPwAAAACWX+o/AAAAAJZf6j8AAAAAll/qPwAAAAAAAPh/",
          "dtype": "f8"
         }
        },
        {
         "mode": "lines+markers",
         "name": "Escherichia_coli val",
         "type": "scatter",
         "x": {
          "bdata": "AAAAAAAAAAAAAAAAAADwPwAAAAAAAABAAAAAAAAACEAAAAAAAAAQQAAAAAAAABRAAAAAAAAAGEAAAAAAAAAcQAAAAAAAACBAAAAAAAAAIkAAAAAAAAAkQAAAAAAAACZAAAAAAAAAKEAAAAAAAAAqQAAAAAAAACxAAAAAAAAALkAAAAAAAAAwQAAAAAAAADFAAAAAAAAAMkAAAAAAAAAzQAAAAAAAADRAAAAAAAAANUAAAAAAAAA2QAAAAAAAADdAAAAAAAAAOEAAAAAAAAA5QAAAAAAAADpAAAAAAAAAO0AAAAAAAAA8QAAAAAAAAD1AAAAAAAAAPkAAAAAAAAA/QAAAAAAAAEBAAAAAAACAQEAAAAAAAABBQAAAAAAAgEFAAAAAAAAAQkAAAAAAAIBCQAAAAAAAAENAAAAAAACAQ0AAAAAAAABEQAAAAAAAgERAAAAAAAAARUAAAAAAAIBFQAAAAAAAAEZAAAAAAACARkAAAAAAAABHQAAAAAAAgEdAAAAAAAAASEAAAAAAAIBIQAAAAAAAAElA",
          "dtype": "f8"
         },
         "y": {
          "bdata": "/f//3yIWzz/9///fIhbPP/3//98iFs8//f//3yIWzz/9///fIhbPP////3+Ietk/AAAAYIKK4D8AAABggorgPwAAAIBrB+E/AAAAQFf15j8AAABAV/XmPwAAAGBmbeQ/AAAAwCQj5T8AAABAV/XmPwAAAMCWNuc/AAAAwJY25z8AAADAljbnPwAAAMCWNuc/AAAAQMkI6T8AAADAljbnPwAAAMCWNuc/AAAAwJY25z8AAADAljbnPwAAAMCWNuc/AAAAwJY25z8AAADAljbnPwAAAMCWNuc/AAAAwJY25z8AAADAljbnPwAAAMCWNuc/AAAAwJY25z8AAADAljbnPwAAAMCWNuc/AAAAwJY25z8AAADAljbnPwAAAMCWNuc/AAAAwJY25z8AAADAljbnPwAAAMCWNuc/AAAAwJY25z8AAADAljbnPwAAAMCWNuc/AAAAwJY25z8AAADAljbnPwAAAMCWNuc/AAAAwJY25z8AAADAljbnPwAAAMCWNuc/AAAAwJY25z8AAADAljbnPwAAAAAAAPh/",
          "dtype": "f8"
         }
        },
        {
         "mode": "lines+markers",
         "name": "Klebsiella_pneumoniae val",
         "type": "scatter",
         "x": {
          "bdata": "AAAAAAAAAAAAAAAAAADwPwAAAAAAAABAAAAAAAAACEAAAAAAAAAQQAAAAAAAABRAAAAAAAAAGEAAAAAAAAAcQAAAAAAAACBAAAAAAAAAIkAAAAAAAAAkQAAAAAAAACZAAAAAAAAAKEAAAAAAAAAqQAAAAAAAACxAAAAAAAAALkAAAAAAAAAwQAAAAAAAADFAAAAAAAAAMkAAAAAAAAAzQAAAAAAAADRAAAAAAAAANUAAAAAAAAA2QAAAAAAAADdAAAAAAAAAOEAAAAAAAAA5QAAAAAAAADpAAAAAAAAAO0AAAAAAAAA8QAAAAAAAAD1AAAAAAAAAPkAAAAAAAAA/QAAAAAAAAEBAAAAAAACAQEAAAAAAAABBQAAAAAAAgEFAAAAAAAAAQkAAAAAAAIBCQAAAAAAAAENAAAAAAACAQ0AAAAAAAABEQAAAAAAAgERAAAAAAAAARUAAAAAAAIBFQAAAAAAAAEZAAAAAAACARkAAAAAAAABHQAAAAAAAgEdAAAAAAAAASEAAAAAAAIBIQAAAAAAAAElA",
          "dtype": "f8"
         },
         "y": {
          "bdata": "+v//f7ujsj////9fLsHRPwAAAEBUb98/AAAAQCqv4D8AAABgUljgPwAAAOA1hN8/AAAAYM565T8AAABAYH3nPwAAAMB3lug/AAAAoGK65z8AAADAgMnrPwAAACD5HOk/AAAAQBRb6j8AAACgRebpPwAAAAD+nek/AAAAIPkc6T8AAAAA/p3pPwAAAEA3t+k/AAAAQDe36T8AAABAN7fpPwAAAEAUW+o/AAAAQDe36T8AAABAN7fpPwAAAEA3t+k/AAAAQBRb6j8AAABAFFvqPwAAAEAUW+o/AAAAQBRb6j8AAABAN7fpPwAAAEA3t+k/AAAAQDe36T8AAABAN7fpPwAAAEA3t+k/AAAAQDe36T8AAABAN7fpPwAAAEA3t+k/AAAAQDe36T8AAABAN7fpPwAAAEA3t+k/AAAAQDe36T8AAABAN7fpPwAAAEA3t+k/AAAAQDe36T8AAABAN7fpPwAAAEA3t+k/AAAAQDe36T8AAABAN7fpPwAAAEA3t+k/AAAAQDe36T8AAABAN7fpPwAAAAAAAPh/",
          "dtype": "f8"
         }
        },
        {
         "mode": "lines+markers",
         "name": "Staphylococcus_aureus val",
         "type": "scatter",
         "x": {
          "bdata": "AAAAAAAAAAAAAAAAAADwPwAAAAAAAABAAAAAAAAACEAAAAAAAAAQQAAAAAAAABRAAAAAAAAAGEAAAAAAAAAcQAAAAAAAACBAAAAAAAAAIkAAAAAAAAAkQAAAAAAAACZAAAAAAAAAKEAAAAAAAAAqQAAAAAAAACxAAAAAAAAALkAAAAAAAAAwQAAAAAAAADFAAAAAAAAAMkAAAAAAAAAzQAAAAAAAADRAAAAAAAAANUAAAAAAAAA2QAAAAAAAADdAAAAAAAAAOEAAAAAAAAA5QAAAAAAAADpAAAAAAAAAO0AAAAAAAAA8QAAAAAAAAD1AAAAAAAAAPkAAAAAAAAA/QAAAAAAAAEBAAAAAAACAQEAAAAAAAABBQAAAAAAAgEFAAAAAAAAAQkAAAAAAAIBCQAAAAAAAAENAAAAAAACAQ0AAAAAAAABEQAAAAAAAgERAAAAAAAAARUAAAAAAAIBFQAAAAAAAAEZAAAAAAACARkAAAAAAAABHQAAAAAAAgEdAAAAAAAAASEAAAAAAAIBIQAAAAAAAAElA",
          "dtype": "f8"
         },
         "y": {
          "bdata": "////3x6O1j////+/lr/ZPwAAAGBo1dw/AAAAoOx03j8AAADAIJzgPwAAACCGt+E/AAAAIDRn5z8AAABg+nnnPwAAAMB0deg/AAAAIHjV6T8AAACgWfLoPwAAAMCEZ+k/AAAAoFny6D8AAAAgeNXpPwAAACB41ek/AAAAIBnA7D8AAAAg+sHqPwAAAKBZ8ug/AAAAYBNk6D8AAAAg47DnPwAAAIAXQOg/AAAAYGgx5z8AAAAgGrfpPwAAAECEz+s/AAAAIOOw5z8AAAAA5+TlPwAAAADmeOk/AAAAoGt96D8AAABgaHnqPwAAAEAYgOo/AAAAQBiA6j8AAABAGIDqPwAAAEAYgOo/AAAAQBiA6j8AAABAGIDqPwAAAADmeOk/AAAAAOZ46T8AAAAA5njpPwAAAADmeOk/AAAAQBiA6j8AAAAA5njpPwAAAADmeOk/AAAAAOZ46T8AAAAA5njpPwAAAADmeOk/AAAAAOZ46T8AAABAGIDqPwAAAEAYgOo/AAAAQBiA6j8AAABAGIDqPwAAAAAAAPh/",
          "dtype": "f8"
         }
        }
       ],
       "layout": {
        "height": 1000,
        "template": {
         "data": {
          "bar": [
           {
            "error_x": {
             "color": "#2a3f5f"
            },
            "error_y": {
             "color": "#2a3f5f"
            },
            "marker": {
             "line": {
              "color": "#E5ECF6",
              "width": 0.5
             },
             "pattern": {
              "fillmode": "overlay",
              "size": 10,
              "solidity": 0.2
             }
            },
            "type": "bar"
           }
          ],
          "barpolar": [
           {
            "marker": {
             "line": {
              "color": "#E5ECF6",
              "width": 0.5
             },
             "pattern": {
              "fillmode": "overlay",
              "size": 10,
              "solidity": 0.2
             }
            },
            "type": "barpolar"
           }
          ],
          "carpet": [
           {
            "aaxis": {
             "endlinecolor": "#2a3f5f",
             "gridcolor": "white",
             "linecolor": "white",
             "minorgridcolor": "white",
             "startlinecolor": "#2a3f5f"
            },
            "baxis": {
             "endlinecolor": "#2a3f5f",
             "gridcolor": "white",
             "linecolor": "white",
             "minorgridcolor": "white",
             "startlinecolor": "#2a3f5f"
            },
            "type": "carpet"
           }
          ],
          "choropleth": [
           {
            "colorbar": {
             "outlinewidth": 0,
             "ticks": ""
            },
            "type": "choropleth"
           }
          ],
          "contour": [
           {
            "colorbar": {
             "outlinewidth": 0,
             "ticks": ""
            },
            "colorscale": [
             [
              0,
              "#0d0887"
             ],
             [
              0.1111111111111111,
              "#46039f"
             ],
             [
              0.2222222222222222,
              "#7201a8"
             ],
             [
              0.3333333333333333,
              "#9c179e"
             ],
             [
              0.4444444444444444,
              "#bd3786"
             ],
             [
              0.5555555555555556,
              "#d8576b"
             ],
             [
              0.6666666666666666,
              "#ed7953"
             ],
             [
              0.7777777777777778,
              "#fb9f3a"
             ],
             [
              0.8888888888888888,
              "#fdca26"
             ],
             [
              1,
              "#f0f921"
             ]
            ],
            "type": "contour"
           }
          ],
          "contourcarpet": [
           {
            "colorbar": {
             "outlinewidth": 0,
             "ticks": ""
            },
            "type": "contourcarpet"
           }
          ],
          "heatmap": [
           {
            "colorbar": {
             "outlinewidth": 0,
             "ticks": ""
            },
            "colorscale": [
             [
              0,
              "#0d0887"
             ],
             [
              0.1111111111111111,
              "#46039f"
             ],
             [
              0.2222222222222222,
              "#7201a8"
             ],
             [
              0.3333333333333333,
              "#9c179e"
             ],
             [
              0.4444444444444444,
              "#bd3786"
             ],
             [
              0.5555555555555556,
              "#d8576b"
             ],
             [
              0.6666666666666666,
              "#ed7953"
             ],
             [
              0.7777777777777778,
              "#fb9f3a"
             ],
             [
              0.8888888888888888,
              "#fdca26"
             ],
             [
              1,
              "#f0f921"
             ]
            ],
            "type": "heatmap"
           }
          ],
          "histogram": [
           {
            "marker": {
             "pattern": {
              "fillmode": "overlay",
              "size": 10,
              "solidity": 0.2
             }
            },
            "type": "histogram"
           }
          ],
          "histogram2d": [
           {
            "colorbar": {
             "outlinewidth": 0,
             "ticks": ""
            },
            "colorscale": [
             [
              0,
              "#0d0887"
             ],
             [
              0.1111111111111111,
              "#46039f"
             ],
             [
              0.2222222222222222,
              "#7201a8"
             ],
             [
              0.3333333333333333,
              "#9c179e"
             ],
             [
              0.4444444444444444,
              "#bd3786"
             ],
             [
              0.5555555555555556,
              "#d8576b"
             ],
             [
              0.6666666666666666,
              "#ed7953"
             ],
             [
              0.7777777777777778,
              "#fb9f3a"
             ],
             [
              0.8888888888888888,
              "#fdca26"
             ],
             [
              1,
              "#f0f921"
             ]
            ],
            "type": "histogram2d"
           }
          ],
          "histogram2dcontour": [
           {
            "colorbar": {
             "outlinewidth": 0,
             "ticks": ""
            },
            "colorscale": [
             [
              0,
              "#0d0887"
             ],
             [
              0.1111111111111111,
              "#46039f"
             ],
             [
              0.2222222222222222,
              "#7201a8"
             ],
             [
              0.3333333333333333,
              "#9c179e"
             ],
             [
              0.4444444444444444,
              "#bd3786"
             ],
             [
              0.5555555555555556,
              "#d8576b"
             ],
             [
              0.6666666666666666,
              "#ed7953"
             ],
             [
              0.7777777777777778,
              "#fb9f3a"
             ],
             [
              0.8888888888888888,
              "#fdca26"
             ],
             [
              1,
              "#f0f921"
             ]
            ],
            "type": "histogram2dcontour"
           }
          ],
          "mesh3d": [
           {
            "colorbar": {
             "outlinewidth": 0,
             "ticks": ""
            },
            "type": "mesh3d"
           }
          ],
          "parcoords": [
           {
            "line": {
             "colorbar": {
              "outlinewidth": 0,
              "ticks": ""
             }
            },
            "type": "parcoords"
           }
          ],
          "pie": [
           {
            "automargin": true,
            "type": "pie"
           }
          ],
          "scatter": [
           {
            "fillpattern": {
             "fillmode": "overlay",
             "size": 10,
             "solidity": 0.2
            },
            "type": "scatter"
           }
          ],
          "scatter3d": [
           {
            "line": {
             "colorbar": {
              "outlinewidth": 0,
              "ticks": ""
             }
            },
            "marker": {
             "colorbar": {
              "outlinewidth": 0,
              "ticks": ""
             }
            },
            "type": "scatter3d"
           }
          ],
          "scattercarpet": [
           {
            "marker": {
             "colorbar": {
              "outlinewidth": 0,
              "ticks": ""
             }
            },
            "type": "scattercarpet"
           }
          ],
          "scattergeo": [
           {
            "marker": {
             "colorbar": {
              "outlinewidth": 0,
              "ticks": ""
             }
            },
            "type": "scattergeo"
           }
          ],
          "scattergl": [
           {
            "marker": {
             "colorbar": {
              "outlinewidth": 0,
              "ticks": ""
             }
            },
            "type": "scattergl"
           }
          ],
          "scattermap": [
           {
            "marker": {
             "colorbar": {
              "outlinewidth": 0,
              "ticks": ""
             }
            },
            "type": "scattermap"
           }
          ],
          "scattermapbox": [
           {
            "marker": {
             "colorbar": {
              "outlinewidth": 0,
              "ticks": ""
             }
            },
            "type": "scattermapbox"
           }
          ],
          "scatterpolar": [
           {
            "marker": {
             "colorbar": {
              "outlinewidth": 0,
              "ticks": ""
             }
            },
            "type": "scatterpolar"
           }
          ],
          "scatterpolargl": [
           {
            "marker": {
             "colorbar": {
              "outlinewidth": 0,
              "ticks": ""
             }
            },
            "type": "scatterpolargl"
           }
          ],
          "scatterternary": [
           {
            "marker": {
             "colorbar": {
              "outlinewidth": 0,
              "ticks": ""
             }
            },
            "type": "scatterternary"
           }
          ],
          "surface": [
           {
            "colorbar": {
             "outlinewidth": 0,
             "ticks": ""
            },
            "colorscale": [
             [
              0,
              "#0d0887"
             ],
             [
              0.1111111111111111,
              "#46039f"
             ],
             [
              0.2222222222222222,
              "#7201a8"
             ],
             [
              0.3333333333333333,
              "#9c179e"
             ],
             [
              0.4444444444444444,
              "#bd3786"
             ],
             [
              0.5555555555555556,
              "#d8576b"
             ],
             [
              0.6666666666666666,
              "#ed7953"
             ],
             [
              0.7777777777777778,
              "#fb9f3a"
             ],
             [
              0.8888888888888888,
              "#fdca26"
             ],
             [
              1,
              "#f0f921"
             ]
            ],
            "type": "surface"
           }
          ],
          "table": [
           {
            "cells": {
             "fill": {
              "color": "#EBF0F8"
             },
             "line": {
              "color": "white"
             }
            },
            "header": {
             "fill": {
              "color": "#C8D4E3"
             },
             "line": {
              "color": "white"
             }
            },
            "type": "table"
           }
          ]
         },
         "layout": {
          "annotationdefaults": {
           "arrowcolor": "#2a3f5f",
           "arrowhead": 0,
           "arrowwidth": 1
          },
          "autotypenumbers": "strict",
          "coloraxis": {
           "colorbar": {
            "outlinewidth": 0,
            "ticks": ""
           }
          },
          "colorscale": {
           "diverging": [
            [
             0,
             "#8e0152"
            ],
            [
             0.1,
             "#c51b7d"
            ],
            [
             0.2,
             "#de77ae"
            ],
            [
             0.3,
             "#f1b6da"
            ],
            [
             0.4,
             "#fde0ef"
            ],
            [
             0.5,
             "#f7f7f7"
            ],
            [
             0.6,
             "#e6f5d0"
            ],
            [
             0.7,
             "#b8e186"
            ],
            [
             0.8,
             "#7fbc41"
            ],
            [
             0.9,
             "#4d9221"
            ],
            [
             1,
             "#276419"
            ]
           ],
           "sequential": [
            [
             0,
             "#0d0887"
            ],
            [
             0.1111111111111111,
             "#46039f"
            ],
            [
             0.2222222222222222,
             "#7201a8"
            ],
            [
             0.3333333333333333,
             "#9c179e"
            ],
            [
             0.4444444444444444,
             "#bd3786"
            ],
            [
             0.5555555555555556,
             "#d8576b"
            ],
            [
             0.6666666666666666,
             "#ed7953"
            ],
            [
             0.7777777777777778,
             "#fb9f3a"
            ],
            [
             0.8888888888888888,
             "#fdca26"
            ],
            [
             1,
             "#f0f921"
            ]
           ],
           "sequentialminus": [
            [
             0,
             "#0d0887"
            ],
            [
             0.1111111111111111,
             "#46039f"
            ],
            [
             0.2222222222222222,
             "#7201a8"
            ],
            [
             0.3333333333333333,
             "#9c179e"
            ],
            [
             0.4444444444444444,
             "#bd3786"
            ],
            [
             0.5555555555555556,
             "#d8576b"
            ],
            [
             0.6666666666666666,
             "#ed7953"
            ],
            [
             0.7777777777777778,
             "#fb9f3a"
            ],
            [
             0.8888888888888888,
             "#fdca26"
            ],
            [
             1,
             "#f0f921"
            ]
           ]
          },
          "colorway": [
           "#636efa",
           "#EF553B",
           "#00cc96",
           "#ab63fa",
           "#FFA15A",
           "#19d3f3",
           "#FF6692",
           "#B6E880",
           "#FF97FF",
           "#FECB52"
          ],
          "font": {
           "color": "#2a3f5f"
          },
          "geo": {
           "bgcolor": "white",
           "lakecolor": "white",
           "landcolor": "#E5ECF6",
           "showlakes": true,
           "showland": true,
           "subunitcolor": "white"
          },
          "hoverlabel": {
           "align": "left"
          },
          "hovermode": "closest",
          "mapbox": {
           "style": "light"
          },
          "paper_bgcolor": "white",
          "plot_bgcolor": "#E5ECF6",
          "polar": {
           "angularaxis": {
            "gridcolor": "white",
            "linecolor": "white",
            "ticks": ""
           },
           "bgcolor": "#E5ECF6",
           "radialaxis": {
            "gridcolor": "white",
            "linecolor": "white",
            "ticks": ""
           }
          },
          "scene": {
           "xaxis": {
            "backgroundcolor": "#E5ECF6",
            "gridcolor": "white",
            "gridwidth": 2,
            "linecolor": "white",
            "showbackground": true,
            "ticks": "",
            "zerolinecolor": "white"
           },
           "yaxis": {
            "backgroundcolor": "#E5ECF6",
            "gridcolor": "white",
            "gridwidth": 2,
            "linecolor": "white",
            "showbackground": true,
            "ticks": "",
            "zerolinecolor": "white"
           },
           "zaxis": {
            "backgroundcolor": "#E5ECF6",
            "gridcolor": "white",
            "gridwidth": 2,
            "linecolor": "white",
            "showbackground": true,
            "ticks": "",
            "zerolinecolor": "white"
           }
          },
          "shapedefaults": {
           "line": {
            "color": "#2a3f5f"
           }
          },
          "ternary": {
           "aaxis": {
            "gridcolor": "white",
            "linecolor": "white",
            "ticks": ""
           },
           "baxis": {
            "gridcolor": "white",
            "linecolor": "white",
            "ticks": ""
           },
           "bgcolor": "#E5ECF6",
           "caxis": {
            "gridcolor": "white",
            "linecolor": "white",
            "ticks": ""
           }
          },
          "title": {
           "x": 0.05
          },
          "xaxis": {
           "automargin": true,
           "gridcolor": "white",
           "linecolor": "white",
           "ticks": "",
           "title": {
            "standoff": 15
           },
           "zerolinecolor": "white",
           "zerolinewidth": 2
          },
          "yaxis": {
           "automargin": true,
           "gridcolor": "white",
           "linecolor": "white",
           "ticks": "",
           "title": {
            "standoff": 15
           },
           "zerolinecolor": "white",
           "zerolinewidth": 2
          }
         }
        },
        "width": 1200
       }
      }
     },
     "metadata": {},
     "output_type": "display_data"
    }
   ],
   "source": [
    "p = Path(\"logs\")\n",
    "all_metrics = {}\n",
    "for i in p.glob(\"*\"):\n",
    "    metrics = pd.read_csv(i / \"version_0\" / \"metrics.csv\")\n",
    "    metrics = metrics.groupby(\"epoch\").mean().reset_index()\n",
    "    metrics = metrics[[\"epoch\", \"train_mcc\", \"val_mcc\"]]\n",
    "    all_metrics[str(i.name)] = metrics\n",
    "import plotly.graph_objects as go\n",
    "\n",
    "fig = go.Figure()\n",
    "for name, metrics in all_metrics.items():\n",
    "    # fig.add_trace(\n",
    "    #     go.Scatter(\n",
    "    #         x=metrics[\"epoch\"],\n",
    "    #         y=metrics[\"train_mcc\"],\n",
    "    #         mode=\"lines+markers\",\n",
    "    #         name=f\"{name} train\",\n",
    "    #         line=dict(dash=\"dash\"),\n",
    "    #     )\n",
    "    # )\n",
    "    fig.add_trace(\n",
    "        go.Scatter(\n",
    "            x=metrics[\"epoch\"],\n",
    "            y=metrics[\"val_mcc\"],\n",
    "            mode=\"lines+markers\",\n",
    "            name=f\"{name} val\",\n",
    "        )\n",
    "    )\n",
    "fig.update_layout(width=1200, height=1000)\n",
    "fig.show()"
   ]
  },
  {
   "cell_type": "code",
   "execution_count": 52,
   "id": "4517ab8f",
   "metadata": {},
   "outputs": [
    {
     "data": {
      "application/vnd.plotly.v1+json": {
       "config": {
        "plotlyServerURL": "https://plot.ly"
       },
       "data": [
        {
         "hovertemplate": "variable=train_mcc<br>epoch=%{x}<br>value=%{y}<extra></extra>",
         "legendgroup": "train_mcc",
         "line": {
          "color": "#636efa",
          "dash": "solid"
         },
         "marker": {
          "symbol": "circle"
         },
         "mode": "lines",
         "name": "train_mcc",
         "orientation": "v",
         "showlegend": true,
         "type": "scatter",
         "x": {
          "bdata": "AAAAAAAAAAAAAAAAAADwPwAAAAAAAABAAAAAAAAACEAAAAAAAAAQQAAAAAAAABRAAAAAAAAAGEAAAAAAAAAcQAAAAAAAACBAAAAAAAAAIkAAAAAAAAAkQAAAAAAAACZAAAAAAAAAKEAAAAAAAAAqQAAAAAAAACxAAAAAAAAALkAAAAAAAAAwQAAAAAAAADFAAAAAAAAAMkAAAAAAAAAzQAAAAAAAADRAAAAAAAAANUAAAAAAAAA2QAAAAAAAADdAAAAAAAAAOEAAAAAAAAA5QAAAAAAAADpAAAAAAAAAO0AAAAAAAAA8QAAAAAAAAD1AAAAAAAAAPkAAAAAAAAA/QAAAAAAAAEBAAAAAAACAQEAAAAAAAABBQAAAAAAAgEFAAAAAAAAAQkAAAAAAAIBCQAAAAAAAAENAAAAAAACAQ0AAAAAAAABEQAAAAAAAgERAAAAAAAAARUAAAAAAAIBFQAAAAAAAAEZAAAAAAACARkAAAAAAAABHQAAAAAAAgEdAAAAAAAAASEAAAAAAAIBIQAAAAAAAAElA",
          "dtype": "f8"
         },
         "xaxis": "x",
         "y": {
          "bdata": "+///n1rDsT/8//9f6e21P/7//x9aFsk/AAAAQIhv0z//////1UzYP////5+Evtk/AAAAwEeK4z8AAAAgK8njPwAAAKDt8Oc/AAAAAEIA6D8AAADg8yTnPwAAAABJkeo/AAAAQIJd6j8AAABgyEnqPwAAAMDg2us/AAAAoATi6z8AAACgvpDsPwAAAAD+ees/AAAA4DOX7T8AAACA4IvtPwEAACDexe0/////n8RO7j//////0m/uPwEAAABip+4/////X7ag7j8AAAAAgODuP////x9hx+4/////35eX7j8AAAAAAZHuPwAAAIBfFe8/////v9Qp7j8AAACAJonuPwAAAECEO+4/AQAA4KLs7j8AAADgvRzvPwEAAECxpu4/////P7rA7j////9/iZbuP////x80h+4/AAAA4DID7z8BAACAimTvP////182Su4/AQAAwBQR7z8AAAAgvr7uP////59W9u4/AQAAIDN37j////8fXWHuP////1/txe4/AQAAYLM27j8BAADAxwDvPwAAAAAAAPh/",
          "dtype": "f8"
         },
         "yaxis": "y"
        },
        {
         "hovertemplate": "variable=val_mcc<br>epoch=%{x}<br>value=%{y}<extra></extra>",
         "legendgroup": "val_mcc",
         "line": {
          "color": "#EF553B",
          "dash": "solid"
         },
         "marker": {
          "symbol": "circle"
         },
         "mode": "lines",
         "name": "val_mcc",
         "orientation": "v",
         "showlegend": true,
         "type": "scatter",
         "x": {
          "bdata": "AAAAAAAAAAAAAAAAAADwPwAAAAAAAABAAAAAAAAACEAAAAAAAAAQQAAAAAAAABRAAAAAAAAAGEAAAAAAAAAcQAAAAAAAACBAAAAAAAAAIkAAAAAAAAAkQAAAAAAAACZAAAAAAAAAKEAAAAAAAAAqQAAAAAAAACxAAAAAAAAALkAAAAAAAAAwQAAAAAAAADFAAAAAAAAAMkAAAAAAAAAzQAAAAAAAADRAAAAAAAAANUAAAAAAAAA2QAAAAAAAADdAAAAAAAAAOEAAAAAAAAA5QAAAAAAAADpAAAAAAAAAO0AAAAAAAAA8QAAAAAAAAD1AAAAAAAAAPkAAAAAAAAA/QAAAAAAAAEBAAAAAAACAQEAAAAAAAABBQAAAAAAAgEFAAAAAAAAAQkAAAAAAAIBCQAAAAAAAAENAAAAAAACAQ0AAAAAAAABEQAAAAAAAgERAAAAAAAAARUAAAAAAAIBFQAAAAAAAAEZAAAAAAACARkAAAAAAAABHQAAAAAAAgEdAAAAAAAAASEAAAAAAAIBIQAAAAAAAAElA",
          "dtype": "f8"
         },
         "xaxis": "x",
         "y": {
          "bdata": "+v//f7ujsj/6//9/u6OyP/7//7+3hcg/////vxkNyj8AAABgUljgPwAAAMAI9uE/AAAAoPCX5j8AAACgv7PmPwAAAIA5k+c/AAAAQHFJ6T8AAADAd5boPwAAAKBBkeg/AAAAYPmi6D8AAADgV07pPwAAACBKL+o/AAAAoEXm6T8AAAAAIfroPwAAAAAh+ug/AAAAoEPi6j8AAACgQZHoPwAAAOBXTuk/AAAA4FdO6T8AAACgQZHoPwAAAKBBkeg/AAAA4FdO6T8AAADgV07pPwAAAOBXTuk/AAAA4FdO6T8AAADgV07pPwAAAOBXTuk/AAAA4FdO6T8AAADgV07pPwAAAOBXTuk/AAAA4FdO6T8AAADgV07pPwAAAOBXTuk/AAAA4FdO6T8AAADgV07pPwAAAOBXTuk/AAAA4FdO6T8AAADgV07pPwAAAOBXTuk/AAAA4FdO6T8AAADgV07pPwAAAOBXTuk/AAAA4FdO6T8AAADgV07pPwAAAOBXTuk/AAAA4FdO6T8AAADgV07pPwAAAAAAAPh/",
          "dtype": "f8"
         },
         "yaxis": "y"
        }
       ],
       "layout": {
        "legend": {
         "title": {
          "text": "variable"
         },
         "tracegroupgap": 0
        },
        "margin": {
         "t": 60
        },
        "template": {
         "data": {
          "bar": [
           {
            "error_x": {
             "color": "#2a3f5f"
            },
            "error_y": {
             "color": "#2a3f5f"
            },
            "marker": {
             "line": {
              "color": "#E5ECF6",
              "width": 0.5
             },
             "pattern": {
              "fillmode": "overlay",
              "size": 10,
              "solidity": 0.2
             }
            },
            "type": "bar"
           }
          ],
          "barpolar": [
           {
            "marker": {
             "line": {
              "color": "#E5ECF6",
              "width": 0.5
             },
             "pattern": {
              "fillmode": "overlay",
              "size": 10,
              "solidity": 0.2
             }
            },
            "type": "barpolar"
           }
          ],
          "carpet": [
           {
            "aaxis": {
             "endlinecolor": "#2a3f5f",
             "gridcolor": "white",
             "linecolor": "white",
             "minorgridcolor": "white",
             "startlinecolor": "#2a3f5f"
            },
            "baxis": {
             "endlinecolor": "#2a3f5f",
             "gridcolor": "white",
             "linecolor": "white",
             "minorgridcolor": "white",
             "startlinecolor": "#2a3f5f"
            },
            "type": "carpet"
           }
          ],
          "choropleth": [
           {
            "colorbar": {
             "outlinewidth": 0,
             "ticks": ""
            },
            "type": "choropleth"
           }
          ],
          "contour": [
           {
            "colorbar": {
             "outlinewidth": 0,
             "ticks": ""
            },
            "colorscale": [
             [
              0,
              "#0d0887"
             ],
             [
              0.1111111111111111,
              "#46039f"
             ],
             [
              0.2222222222222222,
              "#7201a8"
             ],
             [
              0.3333333333333333,
              "#9c179e"
             ],
             [
              0.4444444444444444,
              "#bd3786"
             ],
             [
              0.5555555555555556,
              "#d8576b"
             ],
             [
              0.6666666666666666,
              "#ed7953"
             ],
             [
              0.7777777777777778,
              "#fb9f3a"
             ],
             [
              0.8888888888888888,
              "#fdca26"
             ],
             [
              1,
              "#f0f921"
             ]
            ],
            "type": "contour"
           }
          ],
          "contourcarpet": [
           {
            "colorbar": {
             "outlinewidth": 0,
             "ticks": ""
            },
            "type": "contourcarpet"
           }
          ],
          "heatmap": [
           {
            "colorbar": {
             "outlinewidth": 0,
             "ticks": ""
            },
            "colorscale": [
             [
              0,
              "#0d0887"
             ],
             [
              0.1111111111111111,
              "#46039f"
             ],
             [
              0.2222222222222222,
              "#7201a8"
             ],
             [
              0.3333333333333333,
              "#9c179e"
             ],
             [
              0.4444444444444444,
              "#bd3786"
             ],
             [
              0.5555555555555556,
              "#d8576b"
             ],
             [
              0.6666666666666666,
              "#ed7953"
             ],
             [
              0.7777777777777778,
              "#fb9f3a"
             ],
             [
              0.8888888888888888,
              "#fdca26"
             ],
             [
              1,
              "#f0f921"
             ]
            ],
            "type": "heatmap"
           }
          ],
          "histogram": [
           {
            "marker": {
             "pattern": {
              "fillmode": "overlay",
              "size": 10,
              "solidity": 0.2
             }
            },
            "type": "histogram"
           }
          ],
          "histogram2d": [
           {
            "colorbar": {
             "outlinewidth": 0,
             "ticks": ""
            },
            "colorscale": [
             [
              0,
              "#0d0887"
             ],
             [
              0.1111111111111111,
              "#46039f"
             ],
             [
              0.2222222222222222,
              "#7201a8"
             ],
             [
              0.3333333333333333,
              "#9c179e"
             ],
             [
              0.4444444444444444,
              "#bd3786"
             ],
             [
              0.5555555555555556,
              "#d8576b"
             ],
             [
              0.6666666666666666,
              "#ed7953"
             ],
             [
              0.7777777777777778,
              "#fb9f3a"
             ],
             [
              0.8888888888888888,
              "#fdca26"
             ],
             [
              1,
              "#f0f921"
             ]
            ],
            "type": "histogram2d"
           }
          ],
          "histogram2dcontour": [
           {
            "colorbar": {
             "outlinewidth": 0,
             "ticks": ""
            },
            "colorscale": [
             [
              0,
              "#0d0887"
             ],
             [
              0.1111111111111111,
              "#46039f"
             ],
             [
              0.2222222222222222,
              "#7201a8"
             ],
             [
              0.3333333333333333,
              "#9c179e"
             ],
             [
              0.4444444444444444,
              "#bd3786"
             ],
             [
              0.5555555555555556,
              "#d8576b"
             ],
             [
              0.6666666666666666,
              "#ed7953"
             ],
             [
              0.7777777777777778,
              "#fb9f3a"
             ],
             [
              0.8888888888888888,
              "#fdca26"
             ],
             [
              1,
              "#f0f921"
             ]
            ],
            "type": "histogram2dcontour"
           }
          ],
          "mesh3d": [
           {
            "colorbar": {
             "outlinewidth": 0,
             "ticks": ""
            },
            "type": "mesh3d"
           }
          ],
          "parcoords": [
           {
            "line": {
             "colorbar": {
              "outlinewidth": 0,
              "ticks": ""
             }
            },
            "type": "parcoords"
           }
          ],
          "pie": [
           {
            "automargin": true,
            "type": "pie"
           }
          ],
          "scatter": [
           {
            "fillpattern": {
             "fillmode": "overlay",
             "size": 10,
             "solidity": 0.2
            },
            "type": "scatter"
           }
          ],
          "scatter3d": [
           {
            "line": {
             "colorbar": {
              "outlinewidth": 0,
              "ticks": ""
             }
            },
            "marker": {
             "colorbar": {
              "outlinewidth": 0,
              "ticks": ""
             }
            },
            "type": "scatter3d"
           }
          ],
          "scattercarpet": [
           {
            "marker": {
             "colorbar": {
              "outlinewidth": 0,
              "ticks": ""
             }
            },
            "type": "scattercarpet"
           }
          ],
          "scattergeo": [
           {
            "marker": {
             "colorbar": {
              "outlinewidth": 0,
              "ticks": ""
             }
            },
            "type": "scattergeo"
           }
          ],
          "scattergl": [
           {
            "marker": {
             "colorbar": {
              "outlinewidth": 0,
              "ticks": ""
             }
            },
            "type": "scattergl"
           }
          ],
          "scattermap": [
           {
            "marker": {
             "colorbar": {
              "outlinewidth": 0,
              "ticks": ""
             }
            },
            "type": "scattermap"
           }
          ],
          "scattermapbox": [
           {
            "marker": {
             "colorbar": {
              "outlinewidth": 0,
              "ticks": ""
             }
            },
            "type": "scattermapbox"
           }
          ],
          "scatterpolar": [
           {
            "marker": {
             "colorbar": {
              "outlinewidth": 0,
              "ticks": ""
             }
            },
            "type": "scatterpolar"
           }
          ],
          "scatterpolargl": [
           {
            "marker": {
             "colorbar": {
              "outlinewidth": 0,
              "ticks": ""
             }
            },
            "type": "scatterpolargl"
           }
          ],
          "scatterternary": [
           {
            "marker": {
             "colorbar": {
              "outlinewidth": 0,
              "ticks": ""
             }
            },
            "type": "scatterternary"
           }
          ],
          "surface": [
           {
            "colorbar": {
             "outlinewidth": 0,
             "ticks": ""
            },
            "colorscale": [
             [
              0,
              "#0d0887"
             ],
             [
              0.1111111111111111,
              "#46039f"
             ],
             [
              0.2222222222222222,
              "#7201a8"
             ],
             [
              0.3333333333333333,
              "#9c179e"
             ],
             [
              0.4444444444444444,
              "#bd3786"
             ],
             [
              0.5555555555555556,
              "#d8576b"
             ],
             [
              0.6666666666666666,
              "#ed7953"
             ],
             [
              0.7777777777777778,
              "#fb9f3a"
             ],
             [
              0.8888888888888888,
              "#fdca26"
             ],
             [
              1,
              "#f0f921"
             ]
            ],
            "type": "surface"
           }
          ],
          "table": [
           {
            "cells": {
             "fill": {
              "color": "#EBF0F8"
             },
             "line": {
              "color": "white"
             }
            },
            "header": {
             "fill": {
              "color": "#C8D4E3"
             },
             "line": {
              "color": "white"
             }
            },
            "type": "table"
           }
          ]
         },
         "layout": {
          "annotationdefaults": {
           "arrowcolor": "#2a3f5f",
           "arrowhead": 0,
           "arrowwidth": 1
          },
          "autotypenumbers": "strict",
          "coloraxis": {
           "colorbar": {
            "outlinewidth": 0,
            "ticks": ""
           }
          },
          "colorscale": {
           "diverging": [
            [
             0,
             "#8e0152"
            ],
            [
             0.1,
             "#c51b7d"
            ],
            [
             0.2,
             "#de77ae"
            ],
            [
             0.3,
             "#f1b6da"
            ],
            [
             0.4,
             "#fde0ef"
            ],
            [
             0.5,
             "#f7f7f7"
            ],
            [
             0.6,
             "#e6f5d0"
            ],
            [
             0.7,
             "#b8e186"
            ],
            [
             0.8,
             "#7fbc41"
            ],
            [
             0.9,
             "#4d9221"
            ],
            [
             1,
             "#276419"
            ]
           ],
           "sequential": [
            [
             0,
             "#0d0887"
            ],
            [
             0.1111111111111111,
             "#46039f"
            ],
            [
             0.2222222222222222,
             "#7201a8"
            ],
            [
             0.3333333333333333,
             "#9c179e"
            ],
            [
             0.4444444444444444,
             "#bd3786"
            ],
            [
             0.5555555555555556,
             "#d8576b"
            ],
            [
             0.6666666666666666,
             "#ed7953"
            ],
            [
             0.7777777777777778,
             "#fb9f3a"
            ],
            [
             0.8888888888888888,
             "#fdca26"
            ],
            [
             1,
             "#f0f921"
            ]
           ],
           "sequentialminus": [
            [
             0,
             "#0d0887"
            ],
            [
             0.1111111111111111,
             "#46039f"
            ],
            [
             0.2222222222222222,
             "#7201a8"
            ],
            [
             0.3333333333333333,
             "#9c179e"
            ],
            [
             0.4444444444444444,
             "#bd3786"
            ],
            [
             0.5555555555555556,
             "#d8576b"
            ],
            [
             0.6666666666666666,
             "#ed7953"
            ],
            [
             0.7777777777777778,
             "#fb9f3a"
            ],
            [
             0.8888888888888888,
             "#fdca26"
            ],
            [
             1,
             "#f0f921"
            ]
           ]
          },
          "colorway": [
           "#636efa",
           "#EF553B",
           "#00cc96",
           "#ab63fa",
           "#FFA15A",
           "#19d3f3",
           "#FF6692",
           "#B6E880",
           "#FF97FF",
           "#FECB52"
          ],
          "font": {
           "color": "#2a3f5f"
          },
          "geo": {
           "bgcolor": "white",
           "lakecolor": "white",
           "landcolor": "#E5ECF6",
           "showlakes": true,
           "showland": true,
           "subunitcolor": "white"
          },
          "hoverlabel": {
           "align": "left"
          },
          "hovermode": "closest",
          "mapbox": {
           "style": "light"
          },
          "paper_bgcolor": "white",
          "plot_bgcolor": "#E5ECF6",
          "polar": {
           "angularaxis": {
            "gridcolor": "white",
            "linecolor": "white",
            "ticks": ""
           },
           "bgcolor": "#E5ECF6",
           "radialaxis": {
            "gridcolor": "white",
            "linecolor": "white",
            "ticks": ""
           }
          },
          "scene": {
           "xaxis": {
            "backgroundcolor": "#E5ECF6",
            "gridcolor": "white",
            "gridwidth": 2,
            "linecolor": "white",
            "showbackground": true,
            "ticks": "",
            "zerolinecolor": "white"
           },
           "yaxis": {
            "backgroundcolor": "#E5ECF6",
            "gridcolor": "white",
            "gridwidth": 2,
            "linecolor": "white",
            "showbackground": true,
            "ticks": "",
            "zerolinecolor": "white"
           },
           "zaxis": {
            "backgroundcolor": "#E5ECF6",
            "gridcolor": "white",
            "gridwidth": 2,
            "linecolor": "white",
            "showbackground": true,
            "ticks": "",
            "zerolinecolor": "white"
           }
          },
          "shapedefaults": {
           "line": {
            "color": "#2a3f5f"
           }
          },
          "ternary": {
           "aaxis": {
            "gridcolor": "white",
            "linecolor": "white",
            "ticks": ""
           },
           "baxis": {
            "gridcolor": "white",
            "linecolor": "white",
            "ticks": ""
           },
           "bgcolor": "#E5ECF6",
           "caxis": {
            "gridcolor": "white",
            "linecolor": "white",
            "ticks": ""
           }
          },
          "title": {
           "x": 0.05
          },
          "xaxis": {
           "automargin": true,
           "gridcolor": "white",
           "linecolor": "white",
           "ticks": "",
           "title": {
            "standoff": 15
           },
           "zerolinecolor": "white",
           "zerolinewidth": 2
          },
          "yaxis": {
           "automargin": true,
           "gridcolor": "white",
           "linecolor": "white",
           "ticks": "",
           "title": {
            "standoff": 15
           },
           "zerolinecolor": "white",
           "zerolinewidth": 2
          }
         }
        },
        "xaxis": {
         "anchor": "y",
         "domain": [
          0,
          1
         ],
         "title": {
          "text": "epoch"
         }
        },
        "yaxis": {
         "anchor": "x",
         "domain": [
          0,
          1
         ],
         "title": {
          "text": "value"
         }
        }
       }
      }
     },
     "metadata": {},
     "output_type": "display_data"
    }
   ],
   "source": [
    "\n",
    "metrics = pd.read_csv(\"logs/my_model/version_2/metrics.csv\")\n",
    "metrics = metrics.groupby(\"epoch\").mean().reset_index()\n",
    "metric = \"mcc\"\n",
    "px.line(metrics, x=\"epoch\", y=[f\"train_{metric}\", f\"val_{metric}\"]).show()"
   ]
  },
  {
   "cell_type": "code",
   "execution_count": 15,
   "id": "b1fe92b8",
   "metadata": {},
   "outputs": [],
   "source": [
    "import pandas as pd"
   ]
  },
  {
   "cell_type": "code",
   "execution_count": null,
   "id": "71f3190c",
   "metadata": {},
   "outputs": [
    {
     "data": {
      "text/html": [
       "<div>\n",
       "<style scoped>\n",
       "    .dataframe tbody tr th:only-of-type {\n",
       "        vertical-align: middle;\n",
       "    }\n",
       "\n",
       "    .dataframe tbody tr th {\n",
       "        vertical-align: top;\n",
       "    }\n",
       "\n",
       "    .dataframe thead th {\n",
       "        text-align: right;\n",
       "    }\n",
       "</style>\n",
       "<table border=\"1\" class=\"dataframe\">\n",
       "  <thead>\n",
       "    <tr style=\"text-align: right;\">\n",
       "      <th></th>\n",
       "      <th>Z30yjcBbocoPHNLg8+b6bw==</th>\n",
       "      <th>ZYwY8tgTFzV6HwRByRpq3Q==</th>\n",
       "      <th>'96478','T:C','snp'</th>\n",
       "      <th>00C0H0JU_BGDIHNNK_05194_extended_spectrum_beta_lactamase_aminoglycoside_modifying_enzyme_fusion_protein</th>\n",
       "      <th>'2341143','C:T','snp'</th>\n",
       "      <th>'71991','TCTG:CCTA','complex'</th>\n",
       "      <th>'2295099','A:G','snp'</th>\n",
       "      <th>hSVRbZ6voc8SC9wipuL6bw==</th>\n",
       "      <th>JtsirPfqIuAPsvl1NjMauA==</th>\n",
       "      <th>'3479063','T:C','snp'</th>\n",
       "      <th>...</th>\n",
       "      <th>Y6xmON42wV6O6ofcfPM0gg==</th>\n",
       "      <th>DoaRxr9nPgWaK2SMprkpWw==</th>\n",
       "      <th>bdWRHb1ROfpIJhfmkI4RZw==</th>\n",
       "      <th>u8ZzSMtFa2lBNvF1yPiChg==</th>\n",
       "      <th>yiHnxd5jVGQb8w6tax8UXQ==</th>\n",
       "      <th>ynwN0GkblGC0yzgRSfAaZg==</th>\n",
       "      <th>g7oqGZo6lXJtRbS8Szz6QA==</th>\n",
       "      <th>rdK6U4tMW1MtoDXhajhWuA==</th>\n",
       "      <th>1cPDOEwrb3zO1I+hyg1LLw==</th>\n",
       "      <th>gcbuKjHFEPyvdpwznvOcrg==</th>\n",
       "    </tr>\n",
       "  </thead>\n",
       "  <tbody>\n",
       "    <tr>\n",
       "      <th>00C0H0JU</th>\n",
       "      <td>1</td>\n",
       "      <td>1</td>\n",
       "      <td>0</td>\n",
       "      <td>1</td>\n",
       "      <td>0</td>\n",
       "      <td>0</td>\n",
       "      <td>0</td>\n",
       "      <td>1</td>\n",
       "      <td>0</td>\n",
       "      <td>0</td>\n",
       "      <td>...</td>\n",
       "      <td>0</td>\n",
       "      <td>1</td>\n",
       "      <td>0</td>\n",
       "      <td>1</td>\n",
       "      <td>0</td>\n",
       "      <td>0</td>\n",
       "      <td>1</td>\n",
       "      <td>1</td>\n",
       "      <td>0</td>\n",
       "      <td>0</td>\n",
       "    </tr>\n",
       "    <tr>\n",
       "      <th>00R4CARJ</th>\n",
       "      <td>0</td>\n",
       "      <td>0</td>\n",
       "      <td>0</td>\n",
       "      <td>0</td>\n",
       "      <td>0</td>\n",
       "      <td>0</td>\n",
       "      <td>1</td>\n",
       "      <td>1</td>\n",
       "      <td>0</td>\n",
       "      <td>0</td>\n",
       "      <td>...</td>\n",
       "      <td>1</td>\n",
       "      <td>1</td>\n",
       "      <td>0</td>\n",
       "      <td>0</td>\n",
       "      <td>0</td>\n",
       "      <td>0</td>\n",
       "      <td>1</td>\n",
       "      <td>1</td>\n",
       "      <td>1</td>\n",
       "      <td>0</td>\n",
       "    </tr>\n",
       "    <tr>\n",
       "      <th>01EV2WGY</th>\n",
       "      <td>0</td>\n",
       "      <td>0</td>\n",
       "      <td>0</td>\n",
       "      <td>0</td>\n",
       "      <td>0</td>\n",
       "      <td>0</td>\n",
       "      <td>1</td>\n",
       "      <td>1</td>\n",
       "      <td>1</td>\n",
       "      <td>0</td>\n",
       "      <td>...</td>\n",
       "      <td>1</td>\n",
       "      <td>0</td>\n",
       "      <td>1</td>\n",
       "      <td>0</td>\n",
       "      <td>0</td>\n",
       "      <td>0</td>\n",
       "      <td>1</td>\n",
       "      <td>1</td>\n",
       "      <td>1</td>\n",
       "      <td>0</td>\n",
       "    </tr>\n",
       "    <tr>\n",
       "      <th>020AD0WD</th>\n",
       "      <td>1</td>\n",
       "      <td>1</td>\n",
       "      <td>0</td>\n",
       "      <td>1</td>\n",
       "      <td>0</td>\n",
       "      <td>0</td>\n",
       "      <td>0</td>\n",
       "      <td>0</td>\n",
       "      <td>0</td>\n",
       "      <td>0</td>\n",
       "      <td>...</td>\n",
       "      <td>1</td>\n",
       "      <td>1</td>\n",
       "      <td>0</td>\n",
       "      <td>0</td>\n",
       "      <td>0</td>\n",
       "      <td>0</td>\n",
       "      <td>1</td>\n",
       "      <td>0</td>\n",
       "      <td>1</td>\n",
       "      <td>0</td>\n",
       "    </tr>\n",
       "    <tr>\n",
       "      <th>02VF5AZO</th>\n",
       "      <td>0</td>\n",
       "      <td>0</td>\n",
       "      <td>0</td>\n",
       "      <td>0</td>\n",
       "      <td>0</td>\n",
       "      <td>0</td>\n",
       "      <td>0</td>\n",
       "      <td>1</td>\n",
       "      <td>0</td>\n",
       "      <td>0</td>\n",
       "      <td>...</td>\n",
       "      <td>1</td>\n",
       "      <td>1</td>\n",
       "      <td>0</td>\n",
       "      <td>0</td>\n",
       "      <td>0</td>\n",
       "      <td>0</td>\n",
       "      <td>1</td>\n",
       "      <td>1</td>\n",
       "      <td>1</td>\n",
       "      <td>0</td>\n",
       "    </tr>\n",
       "    <tr>\n",
       "      <th>...</th>\n",
       "      <td>...</td>\n",
       "      <td>...</td>\n",
       "      <td>...</td>\n",
       "      <td>...</td>\n",
       "      <td>...</td>\n",
       "      <td>...</td>\n",
       "      <td>...</td>\n",
       "      <td>...</td>\n",
       "      <td>...</td>\n",
       "      <td>...</td>\n",
       "      <td>...</td>\n",
       "      <td>...</td>\n",
       "      <td>...</td>\n",
       "      <td>...</td>\n",
       "      <td>...</td>\n",
       "      <td>...</td>\n",
       "      <td>...</td>\n",
       "      <td>...</td>\n",
       "      <td>...</td>\n",
       "      <td>...</td>\n",
       "      <td>...</td>\n",
       "    </tr>\n",
       "    <tr>\n",
       "      <th>ZT5LFHB9</th>\n",
       "      <td>0</td>\n",
       "      <td>0</td>\n",
       "      <td>0</td>\n",
       "      <td>0</td>\n",
       "      <td>0</td>\n",
       "      <td>0</td>\n",
       "      <td>0</td>\n",
       "      <td>1</td>\n",
       "      <td>0</td>\n",
       "      <td>0</td>\n",
       "      <td>...</td>\n",
       "      <td>1</td>\n",
       "      <td>1</td>\n",
       "      <td>0</td>\n",
       "      <td>0</td>\n",
       "      <td>0</td>\n",
       "      <td>0</td>\n",
       "      <td>1</td>\n",
       "      <td>1</td>\n",
       "      <td>1</td>\n",
       "      <td>0</td>\n",
       "    </tr>\n",
       "    <tr>\n",
       "      <th>ZVKHZ4BA</th>\n",
       "      <td>0</td>\n",
       "      <td>0</td>\n",
       "      <td>0</td>\n",
       "      <td>0</td>\n",
       "      <td>0</td>\n",
       "      <td>0</td>\n",
       "      <td>0</td>\n",
       "      <td>0</td>\n",
       "      <td>0</td>\n",
       "      <td>0</td>\n",
       "      <td>...</td>\n",
       "      <td>0</td>\n",
       "      <td>0</td>\n",
       "      <td>0</td>\n",
       "      <td>0</td>\n",
       "      <td>0</td>\n",
       "      <td>0</td>\n",
       "      <td>0</td>\n",
       "      <td>0</td>\n",
       "      <td>0</td>\n",
       "      <td>0</td>\n",
       "    </tr>\n",
       "    <tr>\n",
       "      <th>ZWF7VAGZ</th>\n",
       "      <td>0</td>\n",
       "      <td>0</td>\n",
       "      <td>0</td>\n",
       "      <td>0</td>\n",
       "      <td>0</td>\n",
       "      <td>0</td>\n",
       "      <td>0</td>\n",
       "      <td>0</td>\n",
       "      <td>0</td>\n",
       "      <td>0</td>\n",
       "      <td>...</td>\n",
       "      <td>0</td>\n",
       "      <td>0</td>\n",
       "      <td>0</td>\n",
       "      <td>0</td>\n",
       "      <td>0</td>\n",
       "      <td>0</td>\n",
       "      <td>0</td>\n",
       "      <td>0</td>\n",
       "      <td>0</td>\n",
       "      <td>0</td>\n",
       "    </tr>\n",
       "    <tr>\n",
       "      <th>ZY4DBNAW</th>\n",
       "      <td>1</td>\n",
       "      <td>1</td>\n",
       "      <td>0</td>\n",
       "      <td>1</td>\n",
       "      <td>0</td>\n",
       "      <td>0</td>\n",
       "      <td>0</td>\n",
       "      <td>1</td>\n",
       "      <td>0</td>\n",
       "      <td>0</td>\n",
       "      <td>...</td>\n",
       "      <td>1</td>\n",
       "      <td>1</td>\n",
       "      <td>0</td>\n",
       "      <td>1</td>\n",
       "      <td>0</td>\n",
       "      <td>0</td>\n",
       "      <td>1</td>\n",
       "      <td>1</td>\n",
       "      <td>0</td>\n",
       "      <td>0</td>\n",
       "    </tr>\n",
       "    <tr>\n",
       "      <th>ZZW66SIM</th>\n",
       "      <td>0</td>\n",
       "      <td>0</td>\n",
       "      <td>0</td>\n",
       "      <td>0</td>\n",
       "      <td>0</td>\n",
       "      <td>0</td>\n",
       "      <td>0</td>\n",
       "      <td>0</td>\n",
       "      <td>0</td>\n",
       "      <td>0</td>\n",
       "      <td>...</td>\n",
       "      <td>0</td>\n",
       "      <td>0</td>\n",
       "      <td>0</td>\n",
       "      <td>0</td>\n",
       "      <td>0</td>\n",
       "      <td>0</td>\n",
       "      <td>1</td>\n",
       "      <td>0</td>\n",
       "      <td>0</td>\n",
       "      <td>0</td>\n",
       "    </tr>\n",
       "  </tbody>\n",
       "</table>\n",
       "<p>789 rows × 1427 columns</p>\n",
       "</div>"
      ],
      "text/plain": [
       "          Z30yjcBbocoPHNLg8+b6bw==  ZYwY8tgTFzV6HwRByRpq3Q==  \\\n",
       "00C0H0JU                         1                         1   \n",
       "00R4CARJ                         0                         0   \n",
       "01EV2WGY                         0                         0   \n",
       "020AD0WD                         1                         1   \n",
       "02VF5AZO                         0                         0   \n",
       "...                            ...                       ...   \n",
       "ZT5LFHB9                         0                         0   \n",
       "ZVKHZ4BA                         0                         0   \n",
       "ZWF7VAGZ                         0                         0   \n",
       "ZY4DBNAW                         1                         1   \n",
       "ZZW66SIM                         0                         0   \n",
       "\n",
       "          '96478','T:C','snp'  \\\n",
       "00C0H0JU                    0   \n",
       "00R4CARJ                    0   \n",
       "01EV2WGY                    0   \n",
       "020AD0WD                    0   \n",
       "02VF5AZO                    0   \n",
       "...                       ...   \n",
       "ZT5LFHB9                    0   \n",
       "ZVKHZ4BA                    0   \n",
       "ZWF7VAGZ                    0   \n",
       "ZY4DBNAW                    0   \n",
       "ZZW66SIM                    0   \n",
       "\n",
       "          00C0H0JU_BGDIHNNK_05194_extended_spectrum_beta_lactamase_aminoglycoside_modifying_enzyme_fusion_protein  \\\n",
       "00C0H0JU                                                  1                                                         \n",
       "00R4CARJ                                                  0                                                         \n",
       "01EV2WGY                                                  0                                                         \n",
       "020AD0WD                                                  1                                                         \n",
       "02VF5AZO                                                  0                                                         \n",
       "...                                                     ...                                                         \n",
       "ZT5LFHB9                                                  0                                                         \n",
       "ZVKHZ4BA                                                  0                                                         \n",
       "ZWF7VAGZ                                                  0                                                         \n",
       "ZY4DBNAW                                                  1                                                         \n",
       "ZZW66SIM                                                  0                                                         \n",
       "\n",
       "          '2341143','C:T','snp'  '71991','TCTG:CCTA','complex'  \\\n",
       "00C0H0JU                      0                              0   \n",
       "00R4CARJ                      0                              0   \n",
       "01EV2WGY                      0                              0   \n",
       "020AD0WD                      0                              0   \n",
       "02VF5AZO                      0                              0   \n",
       "...                         ...                            ...   \n",
       "ZT5LFHB9                      0                              0   \n",
       "ZVKHZ4BA                      0                              0   \n",
       "ZWF7VAGZ                      0                              0   \n",
       "ZY4DBNAW                      0                              0   \n",
       "ZZW66SIM                      0                              0   \n",
       "\n",
       "          '2295099','A:G','snp'  hSVRbZ6voc8SC9wipuL6bw==  \\\n",
       "00C0H0JU                      0                         1   \n",
       "00R4CARJ                      1                         1   \n",
       "01EV2WGY                      1                         1   \n",
       "020AD0WD                      0                         0   \n",
       "02VF5AZO                      0                         1   \n",
       "...                         ...                       ...   \n",
       "ZT5LFHB9                      0                         1   \n",
       "ZVKHZ4BA                      0                         0   \n",
       "ZWF7VAGZ                      0                         0   \n",
       "ZY4DBNAW                      0                         1   \n",
       "ZZW66SIM                      0                         0   \n",
       "\n",
       "          JtsirPfqIuAPsvl1NjMauA==  '3479063','T:C','snp'  ...  \\\n",
       "00C0H0JU                         0                      0  ...   \n",
       "00R4CARJ                         0                      0  ...   \n",
       "01EV2WGY                         1                      0  ...   \n",
       "020AD0WD                         0                      0  ...   \n",
       "02VF5AZO                         0                      0  ...   \n",
       "...                            ...                    ...  ...   \n",
       "ZT5LFHB9                         0                      0  ...   \n",
       "ZVKHZ4BA                         0                      0  ...   \n",
       "ZWF7VAGZ                         0                      0  ...   \n",
       "ZY4DBNAW                         0                      0  ...   \n",
       "ZZW66SIM                         0                      0  ...   \n",
       "\n",
       "          Y6xmON42wV6O6ofcfPM0gg==  DoaRxr9nPgWaK2SMprkpWw==  \\\n",
       "00C0H0JU                         0                         1   \n",
       "00R4CARJ                         1                         1   \n",
       "01EV2WGY                         1                         0   \n",
       "020AD0WD                         1                         1   \n",
       "02VF5AZO                         1                         1   \n",
       "...                            ...                       ...   \n",
       "ZT5LFHB9                         1                         1   \n",
       "ZVKHZ4BA                         0                         0   \n",
       "ZWF7VAGZ                         0                         0   \n",
       "ZY4DBNAW                         1                         1   \n",
       "ZZW66SIM                         0                         0   \n",
       "\n",
       "          bdWRHb1ROfpIJhfmkI4RZw==  u8ZzSMtFa2lBNvF1yPiChg==  \\\n",
       "00C0H0JU                         0                         1   \n",
       "00R4CARJ                         0                         0   \n",
       "01EV2WGY                         1                         0   \n",
       "020AD0WD                         0                         0   \n",
       "02VF5AZO                         0                         0   \n",
       "...                            ...                       ...   \n",
       "ZT5LFHB9                         0                         0   \n",
       "ZVKHZ4BA                         0                         0   \n",
       "ZWF7VAGZ                         0                         0   \n",
       "ZY4DBNAW                         0                         1   \n",
       "ZZW66SIM                         0                         0   \n",
       "\n",
       "          yiHnxd5jVGQb8w6tax8UXQ==  ynwN0GkblGC0yzgRSfAaZg==  \\\n",
       "00C0H0JU                         0                         0   \n",
       "00R4CARJ                         0                         0   \n",
       "01EV2WGY                         0                         0   \n",
       "020AD0WD                         0                         0   \n",
       "02VF5AZO                         0                         0   \n",
       "...                            ...                       ...   \n",
       "ZT5LFHB9                         0                         0   \n",
       "ZVKHZ4BA                         0                         0   \n",
       "ZWF7VAGZ                         0                         0   \n",
       "ZY4DBNAW                         0                         0   \n",
       "ZZW66SIM                         0                         0   \n",
       "\n",
       "          g7oqGZo6lXJtRbS8Szz6QA==  rdK6U4tMW1MtoDXhajhWuA==  \\\n",
       "00C0H0JU                         1                         1   \n",
       "00R4CARJ                         1                         1   \n",
       "01EV2WGY                         1                         1   \n",
       "020AD0WD                         1                         0   \n",
       "02VF5AZO                         1                         1   \n",
       "...                            ...                       ...   \n",
       "ZT5LFHB9                         1                         1   \n",
       "ZVKHZ4BA                         0                         0   \n",
       "ZWF7VAGZ                         0                         0   \n",
       "ZY4DBNAW                         1                         1   \n",
       "ZZW66SIM                         1                         0   \n",
       "\n",
       "          1cPDOEwrb3zO1I+hyg1LLw==  gcbuKjHFEPyvdpwznvOcrg==  \n",
       "00C0H0JU                         0                         0  \n",
       "00R4CARJ                         1                         0  \n",
       "01EV2WGY                         1                         0  \n",
       "020AD0WD                         1                         0  \n",
       "02VF5AZO                         1                         0  \n",
       "...                            ...                       ...  \n",
       "ZT5LFHB9                         1                         0  \n",
       "ZVKHZ4BA                         0                         0  \n",
       "ZWF7VAGZ                         0                         0  \n",
       "ZY4DBNAW                         0                         0  \n",
       "ZZW66SIM                         0                         0  \n",
       "\n",
       "[789 rows x 1427 columns]"
      ]
     },
     "execution_count": 18,
     "metadata": {},
     "output_type": "execute_result"
    }
   ],
   "source": [
    "genotype_file = f\"/srv/scratch/AMR/Reduced_genotype/Klebsiella_pneumoniae_reduced_genotype.tsv\"\n",
    "phenotype_file = f\"/srv/scratch/AMR/IR_phenotype/Klebsiella_pneumoniae/phenotype.txt\"\n",
    "\n",
    "x = pd.read_csv(genotype_file, sep=\"\\t\", index_col=0)\n",
    "p"
   ]
  },
  {
   "cell_type": "code",
   "execution_count": null,
   "id": "4418937c",
   "metadata": {},
   "outputs": [],
   "source": []
  }
 ],
 "metadata": {
  "kernelspec": {
   "display_name": "esm",
   "language": "python",
   "name": "python3"
  },
  "language_info": {
   "codemirror_mode": {
    "name": "ipython",
    "version": 3
   },
   "file_extension": ".py",
   "mimetype": "text/x-python",
   "name": "python",
   "nbconvert_exporter": "python",
   "pygments_lexer": "ipython3",
   "version": "3.11.13"
  }
 },
 "nbformat": 4,
 "nbformat_minor": 5
}
