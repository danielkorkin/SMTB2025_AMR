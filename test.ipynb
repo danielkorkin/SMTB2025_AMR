{
 "cells": [
  {
   "cell_type": "code",
   "execution_count": 1,
   "id": "8c8bee0d",
   "metadata": {},
   "outputs": [],
   "source": [
    "import pandas as pd\n",
    "import plotly.express as px\n",
    "from pathlib import Path"
   ]
  },
  {
   "cell_type": "code",
   "execution_count": null,
   "id": "426b76bd",
   "metadata": {},
   "outputs": [
    {
     "data": {
      "application/vnd.plotly.v1+json": {
       "config": {
        "plotlyServerURL": "https://plot.ly"
       },
       "data": [
        {
         "mode": "lines+markers",
         "name": "Campylobacter_jejuni train",
         "type": "scatter",
         "x": {
          "bdata": "AAAAAAAAAAAAAAAAAADwPwAAAAAAAABAAAAAAAAACEAAAAAAAAAQQAAAAAAAABRAAAAAAAAAGEAAAAAAAAAcQAAAAAAAACBAAAAAAAAAIkAAAAAAAAAkQAAAAAAAACZAAAAAAAAAKEAAAAAAAAAqQAAAAAAAACxAAAAAAAAALkAAAAAAAAAwQAAAAAAAADFAAAAAAAAAMkAAAAAAAAAzQAAAAAAAADRAAAAAAAAANUAAAAAAAAA2QAAAAAAAADdAAAAAAAAAOEAAAAAAAAA5QAAAAAAAADpAAAAAAAAAO0AAAAAAAAA8QAAAAAAAAD1AAAAAAAAAPkAAAAAAAAA/QAAAAAAAAEBAAAAAAACAQEAAAAAAAABBQAAAAAAAgEFAAAAAAAAAQkAAAAAAAIBCQAAAAAAAAENAAAAAAACAQ0AAAAAAAABEQAAAAAAAgERAAAAAAAAARUAAAAAAAIBFQAAAAAAAAEZAAAAAAACARkAAAAAAAABHQAAAAAAAgEdAAAAAAAAASEAAAAAAAIBIQAAAAAAAAElA",
          "dtype": "f8"
         },
         "y": {
          "bdata": "/v//vynnxT8AAABAysfiPwAAAIAmW+c/AAAAoPfz6z8AAADgBi7tPwAAAIAUNO4/AQAAgEke7j8AAADgtrruP/////9o9u4/AAAAwC+Z7j8AAABAhp3uP////7/Q4u4/AAAAgE/F7j8AAAAAx+ruP////78d7u4/////P77C7j8BAAAgIWDvP////3+2HO8/AQAAYPIX7z8AAAAAkBbvPwAAAIBbYu8/AAAAYGln7z8AAACg6ePuPwEAAODhiu8/AQAA4Aw47z8BAACgiLLvPwEAAKC9ju8/AQAAgIiy7z/////fF7TvPwEAAGB8i+8/AQAAwArN7j8AAADgfZLvPwAAAIARqu8/AQAAgLOI7z8AAABgTlLvP////7/Uru8/////nwGR7z8AAADgdo3vPwAAAOC2tO8/AAAAYFA87z8BAACAS7XvP////7/cte8/AAAAwG5h7z8AAAAgPLDvP////z8oge8/AAAAQMmr7z/////fF7TvPwAAAOB9iO8/AAAAwKXa7z////+/Da7vPwAAAAAAAPh/",
          "dtype": "f8"
         }
        },
        {
         "mode": "lines+markers",
         "name": "Campylobacter_jejuni val",
         "type": "scatter",
         "x": {
          "bdata": "AAAAAAAAAAAAAAAAAADwPwAAAAAAAABAAAAAAAAACEAAAAAAAAAQQAAAAAAAABRAAAAAAAAAGEAAAAAAAAAcQAAAAAAAACBAAAAAAAAAIkAAAAAAAAAkQAAAAAAAACZAAAAAAAAAKEAAAAAAAAAqQAAAAAAAACxAAAAAAAAALkAAAAAAAAAwQAAAAAAAADFAAAAAAAAAMkAAAAAAAAAzQAAAAAAAADRAAAAAAAAANUAAAAAAAAA2QAAAAAAAADdAAAAAAAAAOEAAAAAAAAA5QAAAAAAAADpAAAAAAAAAO0AAAAAAAAA8QAAAAAAAAD1AAAAAAAAAPkAAAAAAAAA/QAAAAAAAAEBAAAAAAACAQEAAAAAAAABBQAAAAAAAgEFAAAAAAAAAQkAAAAAAAIBCQAAAAAAAAENAAAAAAACAQ0AAAAAAAABEQAAAAAAAgERAAAAAAAAARUAAAAAAAIBFQAAAAAAAAEZAAAAAAACARkAAAAAAAABHQAAAAAAAgEdAAAAAAAAASEAAAAAAAIBIQAAAAAAAAElA",
          "dtype": "f8"
         },
         "y": {
          "bdata": "////fzxT0z8AAAAgTyntPwAAAAAAAPA/AAAAAAAA8D8AAAAAAADwPwAAAAAAAPA/AAAAAAAA8D8AAAAAAADwPwAAAAAAAPA/AAAAAAAA8D8AAAAAAADwPwAAAAAAAPA/AAAAAAAA8D8AAAAAAADwPwAAAAAAAPA/AAAAAAAA8D8AAAAAAADwPwAAAAAAAPA/AAAAAAAA8D8AAAAAAADwPwAAAAAAAPA/AAAAAAAA8D8AAAAAAADwPwAAAAAAAPA/AAAAAAAA8D8AAAAAAADwPwAAAAAAAPA/AAAAAAAA8D8AAAAAAADwPwAAAAAAAPA/AAAAAAAA8D8AAAAAAADwPwAAAAAAAPA/AAAAAAAA8D8AAAAAAADwPwAAAAAAAPA/AAAAAAAA8D8AAAAAAADwPwAAAAAAAPA/AAAAAAAA8D8AAAAAAADwPwAAAAAAAPA/AAAAAAAA8D8AAAAAAADwPwAAAAAAAPA/AAAAAAAA8D8AAAAAAADwPwAAAAAAAPA/AAAAAAAA8D8AAAAAAADwPwAAAAAAAPh/",
          "dtype": "f8"
         }
        },
        {
         "mode": "lines+markers",
         "name": "Streptococcus_pneumoniae train",
         "type": "scatter",
         "x": {
          "bdata": "AAAAAAAAAAAAAAAAAADwPwAAAAAAAABAAAAAAAAACEAAAAAAAAAQQAAAAAAAABRAAAAAAAAAGEAAAAAAAAAcQAAAAAAAACBAAAAAAAAAIkAAAAAAAAAkQAAAAAAAACZAAAAAAAAAKEAAAAAAAAAqQAAAAAAAACxAAAAAAAAALkAAAAAAAAAwQAAAAAAAADFAAAAAAAAAMkAAAAAAAAAzQAAAAAAAADRAAAAAAAAANUAAAAAAAAA2QAAAAAAAADdAAAAAAAAAOEAAAAAAAAA5QAAAAAAAADpAAAAAAAAAO0AAAAAAAAA8QAAAAAAAAD1AAAAAAAAAPkAAAAAAAAA/QAAAAAAAAEBAAAAAAACAQEAAAAAAAABBQAAAAAAAgEFAAAAAAAAAQkAAAAAAAIBCQAAAAAAAAENAAAAAAACAQ0AAAAAAAABEQAAAAAAAgERAAAAAAAAARUAAAAAAAIBFQAAAAAAAAEZAAAAAAACARkAAAAAAAABHQAAAAAAAgEdAAAAAAAAASEAAAAAAAIBIQAAAAAAAAElA",
          "dtype": "f8"
         },
         "y": {
          "bdata": "AAAAAHZsxj8AAACgAJDgPwAAAMCgNeY/AAAAgOc35j8AAABgFcbnPwAAAMAAH+k/AAAAAMzN6T8AAABgCYPqPwAAAOBbyeo/AAAAwM9V6z8AAABgSSzsPwEAAGAC9uw/AAAAoB737D8AAADAqh/tPwAAAADCke4/AAAAYNTS7j/////f2qTuPwAAAIAupe4/AAAAQBIZ7z8BAABAue/uP////99gE+8/AQAAoEGa7z8AAACAlnLvP////x9bnO8/AAAAgCi87z8AAACgdTLvP////z+ime8/AAAAYJNa7z8BAADAnNrvPwAAACD/fO8/AAAA4EhV7z8AAADA8jnvPwAAAMD3du8/AQAAgDt07z8AAACgtrzvP////7+d3u8/AQAAwFeY7z8AAADAv7/vPwEAACAZ3u8/AQAA4Bje7z8BAADgSd3vP////7+d3u8/AAAAgNyY7z8AAADA97zvPwEAAOBJ3e8/AAAAoN7e7z////+/nd7vP////38NmO8/AAAAAAAA8D8AAACg97zvPwAAAAAAAPh/",
          "dtype": "f8"
         }
        },
        {
         "mode": "lines+markers",
         "name": "Streptococcus_pneumoniae val",
         "type": "scatter",
         "x": {
          "bdata": "AAAAAAAAAAAAAAAAAADwPwAAAAAAAABAAAAAAAAACEAAAAAAAAAQQAAAAAAAABRAAAAAAAAAGEAAAAAAAAAcQAAAAAAAACBAAAAAAAAAIkAAAAAAAAAkQAAAAAAAACZAAAAAAAAAKEAAAAAAAAAqQAAAAAAAACxAAAAAAAAALkAAAAAAAAAwQAAAAAAAADFAAAAAAAAAMkAAAAAAAAAzQAAAAAAAADRAAAAAAAAANUAAAAAAAAA2QAAAAAAAADdAAAAAAAAAOEAAAAAAAAA5QAAAAAAAADpAAAAAAAAAO0AAAAAAAAA8QAAAAAAAAD1AAAAAAAAAPkAAAAAAAAA/QAAAAAAAAEBAAAAAAACAQEAAAAAAAABBQAAAAAAAgEFAAAAAAAAAQkAAAAAAAIBCQAAAAAAAAENAAAAAAACAQ0AAAAAAAABEQAAAAAAAgERAAAAAAAAARUAAAAAAAIBFQAAAAAAAAEZAAAAAAACARkAAAAAAAABHQAAAAAAAgEdAAAAAAAAASEAAAAAAAIBIQAAAAAAAAElA",
          "dtype": "f8"
         },
         "y": {
          "bdata": "AAAAgHOr5z8AAACALwzpPwAAAKA7/ek/AAAAgC8M6T8AAAAgOK/oPwAAAOAZtuk/AAAAgNmr6j8AAACgO/3pPwAAAED78uo/AAAAQGTA7D8BAAAA7vTuPwAAAED78uo/AAAA4Mfw7j8AAADgx/DuPwAAAAAAAPA/AAAAAAAA8D8AAADgx/DuPwAAAAAAAPA/AAAAAAAA8D8BAAAAZPXuPwAAAAAAAPA/AAAAAAAA8D8AAAAAAADwPwAAAAAAAPA/AQAA4FHq7T8AAAAAAADwPwAAAAAAAPA/AAAAAAAA8D8BAADgUertPwAAAAAAAPA/AQAA4FHq7T8AAAAgBvjuPwEAAOBR6u0/AAAAAAAA8D8AAAAAAADwPwEAAOBR6u0/AAAAIAb47j8BAADgUertPwAAACAG+O4/AAAAAAAA8D8BAADgUertPwAAAAAAAPA/AQAAAGT17j8BAAAAZPXuPwEAAABk9e4/AAAAAAAA8D8AAAAAAADwPwAAAAAAAPA/AAAAAAAA8D8AAAAAAADwPwAAAAAAAPh/",
          "dtype": "f8"
         }
        },
        {
         "mode": "lines+markers",
         "name": "Acinetobacter_baumannii train",
         "type": "scatter",
         "x": {
          "bdata": "AAAAAAAAAAAAAAAAAADwPwAAAAAAAABAAAAAAAAACEAAAAAAAAAQQAAAAAAAABRAAAAAAAAAGEAAAAAAAAAcQAAAAAAAACBAAAAAAAAAIkAAAAAAAAAkQAAAAAAAACZAAAAAAAAAKEAAAAAAAAAqQAAAAAAAACxAAAAAAAAALkAAAAAAAAAwQAAAAAAAADFAAAAAAAAAMkAAAAAAAAAzQAAAAAAAADRAAAAAAAAANUAAAAAAAAA2QAAAAAAAADdAAAAAAAAAOEAAAAAAAAA5QAAAAAAAADpAAAAAAAAAO0AAAAAAAAA8QAAAAAAAAD1AAAAAAAAAPkAAAAAAAAA/QAAAAAAAAEBAAAAAAACAQEAAAAAAAABBQAAAAAAAgEFAAAAAAAAAQkAAAAAAAIBCQAAAAAAAAENAAAAAAACAQ0AAAAAAAABEQAAAAAAAgERAAAAAAAAARUAAAAAAAIBFQAAAAAAAAEZAAAAAAACARkAAAAAAAABHQAAAAAAAgEdAAAAAAAAASEAAAAAAAIBIQAAAAAAAAElA",
          "dtype": "f8"
         },
         "y": {
          "bdata": "/f//n08Koz////8/fZO1P////19E79U/AAAAAHfG3T8AAADgScPlPwAAAADkKuQ/AAAAYJut5z8AAACgEgToPwAAAKABoec/AAAAIDJD6j8AAADAI8jqPwAAAGDqDek/AAAAQHgA6z8AAAAgeS7qPwAAAMAqyus/AAAAwPi67D8AAAAA7Z7sPwAAAACgIOs/AAAAAF+l6z8AAACAamfsPwAAAGDZf+s/AAAAID8A7T8AAAAguc/rPwAAAADciOs/AAAAYGaR7D8AAACgOKvtPwAAAODDUO0/AQAAQCeQ7T8BAACA+iLtPwAAAODsg+w/AQAAoAxq7T8AAABgp23tPwAAAGCAnew/AAAAAKTL7D8AAADA8ajsPwAAAAAaqOw/AQAAwAj67D8AAABg4WXtPwAAACAAt+s/AQAAIB1b7T8AAADAOh3tPwAAAADNTe0/AQAAQCUT7T8BAABA5HTtPwAAAKBm+Ow/AAAAANPr6z8BAAAg5iHtPwAAAAC9oOw/AAAAoEvD6z8AAAAgDAXtPwAAAAAAAPh/",
          "dtype": "f8"
         }
        },
        {
         "mode": "lines+markers",
         "name": "Acinetobacter_baumannii val",
         "type": "scatter",
         "x": {
          "bdata": "AAAAAAAAAAAAAAAAAADwPwAAAAAAAABAAAAAAAAACEAAAAAAAAAQQAAAAAAAABRAAAAAAAAAGEAAAAAAAAAcQAAAAAAAACBAAAAAAAAAIkAAAAAAAAAkQAAAAAAAACZAAAAAAAAAKEAAAAAAAAAqQAAAAAAAACxAAAAAAAAALkAAAAAAAAAwQAAAAAAAADFAAAAAAAAAMkAAAAAAAAAzQAAAAAAAADRAAAAAAAAANUAAAAAAAAA2QAAAAAAAADdAAAAAAAAAOEAAAAAAAAA5QAAAAAAAADpAAAAAAAAAO0AAAAAAAAA8QAAAAAAAAD1AAAAAAAAAPkAAAAAAAAA/QAAAAAAAAEBAAAAAAACAQEAAAAAAAABBQAAAAAAAgEFAAAAAAAAAQkAAAAAAAIBCQAAAAAAAAENAAAAAAACAQ0AAAAAAAABEQAAAAAAAgERAAAAAAAAARUAAAAAAAIBFQAAAAAAAAEZAAAAAAACARkAAAAAAAABHQAAAAAAAgEdAAAAAAAAASEAAAAAAAIBIQAAAAAAAAElA",
          "dtype": "f8"
         },
         "y": {
          "bdata": "AAAAYGX+0D8AAABgZf7QPwAAAEBekdU/AAAAQGMw4D8AAADAaWXdPwAAAMBACeI/AAAAIBQp5D8AAADAQAniPwAAAKDL1+M/AAAAwEAJ4j8AAAAAkePnPwAAACDDZuY/AAAAAJHj5z8AAAAgw2bmPwAAAECFMeg/AAAAIMNm5j8AAABAhTHoPwAAACDDZuY/AAAAIL8D6j8AAABAhTHoPwAAAECFMeg/AAAAQIUx6D8AAABAhTHoPwAAAECFMeg/AAAAQIUx6D8AAABAhTHoPwAAAECFMeg/AAAAQIUx6D8AAABAhTHoPwAAAECFMeg/AAAAQIUx6D8AAABAhTHoPwAAAECFMeg/AAAAQIUx6D8AAABAhTHoPwAAAECFMeg/AAAAQIUx6D8AAABAhTHoPwAAAECFMeg/AAAAQIUx6D8AAABAhTHoPwAAAECFMeg/AAAAQIUx6D8AAABAhTHoPwAAAECFMeg/AAAAQIUx6D8AAABAhTHoPwAAAECFMeg/AAAAQIUx6D8AAABAhTHoPwAAAAAAAPh/",
          "dtype": "f8"
         }
        },
        {
         "mode": "lines+markers",
         "name": "Pseudomonas_aeruginosa train",
         "type": "scatter",
         "x": {
          "bdata": "AAAAAAAAAAAAAAAAAADwPwAAAAAAAABAAAAAAAAACEAAAAAAAAAQQAAAAAAAABRAAAAAAAAAGEAAAAAAAAAcQAAAAAAAACBAAAAAAAAAIkAAAAAAAAAkQAAAAAAAACZAAAAAAAAAKEAAAAAAAAAqQAAAAAAAACxAAAAAAAAALkAAAAAAAAAwQAAAAAAAADFAAAAAAAAAMkAAAAAAAAAzQAAAAAAAADRAAAAAAAAANUAAAAAAAAA2QAAAAAAAADdAAAAAAAAAOEAAAAAAAAA5QAAAAAAAADpAAAAAAAAAO0AAAAAAAAA8QAAAAAAAAD1AAAAAAAAAPkAAAAAAAAA/QAAAAAAAAEBAAAAAAACAQEAAAAAAAABBQAAAAAAAgEFAAAAAAAAAQkAAAAAAAIBCQAAAAAAAAENAAAAAAACAQ0AAAAAAAABEQAAAAAAAgERAAAAAAAAARUAAAAAAAIBFQAAAAAAAAEZAAAAAAACARkAAAAAAAABHQAAAAAAAgEdAAAAAAAAASEAAAAAAAIBIQAAAAAAAAElA",
          "dtype": "f8"
         },
         "y": {
          "bdata": "+v//XyH3o7/c//9/WcOKPwAAAGDLDsg/AAAAQJDH0j////+/RKTaPwAAAKDTp+A/AAAAoC274j8AAACgp+3jPwAAAMAnTuU/AAAAYP2k5j8AAABATAToPwAAAEDhTeo/AAAA4PnG6T8AAADgRqTrPwAAAAAxXOs/AAAAQIqR6z8AAACAkA/rPwAAAKBnbe0/AAAAgBkD7T8BAABgQdLtPwAAAEAX5ew/AAAAQEF07T8AAADgCBzuPwAAAMAv7+0/AAAA4Dff7T8AAABgY2ruPwAAAEDLAu4/AAAAwLA07T8AAADghjruPwEAAACXa+4/////P/+U7j////9/g2vtPwEAAMDLl+4/AAAAoDRF7j8BAACAPSbvPwAAAKBfWe4/AAAAIANS7j8AAACgnmvuPwAAAAAHZu4/////n1YT7T8AAACAJojuP////z9pce4/AQAAwJDk7T////+fBzvuPwAAAOCpQO4/////X8TY7j8AAACgtI/uPwAAAODFaO4/AAAAoK0f7j8AAAAgFA/uPwAAAAAAAPh/",
          "dtype": "f8"
         }
        },
        {
         "mode": "lines+markers",
         "name": "Pseudomonas_aeruginosa val",
         "type": "scatter",
         "x": {
          "bdata": "AAAAAAAAAAAAAAAAAADwPwAAAAAAAABAAAAAAAAACEAAAAAAAAAQQAAAAAAAABRAAAAAAAAAGEAAAAAAAAAcQAAAAAAAACBAAAAAAAAAIkAAAAAAAAAkQAAAAAAAACZAAAAAAAAAKEAAAAAAAAAqQAAAAAAAACxAAAAAAAAALkAAAAAAAAAwQAAAAAAAADFAAAAAAAAAMkAAAAAAAAAzQAAAAAAAADRAAAAAAAAANUAAAAAAAAA2QAAAAAAAADdAAAAAAAAAOEAAAAAAAAA5QAAAAAAAADpAAAAAAAAAO0AAAAAAAAA8QAAAAAAAAD1AAAAAAAAAPkAAAAAAAAA/QAAAAAAAAEBAAAAAAACAQEAAAAAAAABBQAAAAAAAgEFAAAAAAAAAQkAAAAAAAIBCQAAAAAAAAENAAAAAAACAQ0AAAAAAAABEQAAAAAAAgERAAAAAAAAARUAAAAAAAIBFQAAAAAAAAEZAAAAAAACARkAAAAAAAABHQAAAAAAAgEdAAAAAAAAASEAAAAAAAIBIQAAAAAAAAElA",
          "dtype": "f8"
         },
         "y": {
          "bdata": "////H59S0r////9f8UbNvwAAAMDAqsg//////2YH2T////9ffAHfPwAAAKCDaOI/AAAAgF0l5D8AAACgV0XfPwAAAMDIguE/AAAAAHdh4z8AAACAMD/lPwAAAGC0a+c/AAAA4ODe5D8AAAAgTEnmPwAAAODrSOY/AAAAgDA/5T8AAACAMD/lPwAAAKBR9OQ/AAAAgDA/5T8AAACAMD/lPwAAAIAwP+U/AAAAgDA/5T8AAACAMD/lPwAAAIAwP+U/AAAAgDA/5T8AAACAMD/lPwAAAIAwP+U/AAAAgDA/5T8AAACAMD/lPwAAAIAwP+U/AAAAgDA/5T8AAACAMD/lPwAAAIAwP+U/AAAAgDA/5T8AAACAMD/lPwAAAIAwP+U/AAAAgDA/5T8AAACAMD/lPwAAAIAwP+U/AAAAgDA/5T8AAACAMD/lPwAAAIAwP+U/AAAAgDA/5T8AAACAMD/lPwAAAIAwP+U/AAAAgDA/5T8AAACAMD/lPwAAAIAwP+U/AAAAgDA/5T8AAACAMD/lPwAAAAAAAPh/",
          "dtype": "f8"
         }
        },
        {
         "mode": "lines+markers",
         "name": "Salmonella_enterica train",
         "type": "scatter",
         "x": {
          "bdata": "AAAAAAAAAAAAAAAAAADwPwAAAAAAAABAAAAAAAAACEAAAAAAAAAQQAAAAAAAABRAAAAAAAAAGEAAAAAAAAAcQAAAAAAAACBAAAAAAAAAIkAAAAAAAAAkQAAAAAAAACZAAAAAAAAAKEAAAAAAAAAqQAAAAAAAACxAAAAAAAAALkAAAAAAAAAwQAAAAAAAADFAAAAAAAAAMkAAAAAAAAAzQAAAAAAAADRAAAAAAAAANUAAAAAAAAA2QAAAAAAAADdAAAAAAAAAOEAAAAAAAAA5QAAAAAAAADpAAAAAAAAAO0AAAAAAAAA8QAAAAAAAAD1AAAAAAAAAPkAAAAAAAAA/QAAAAAAAAEBAAAAAAACAQEAAAAAAAABBQAAAAAAAgEFAAAAAAAAAQkAAAAAAAIBCQAAAAAAAAENAAAAAAACAQ0AAAAAAAABEQAAAAAAAgERAAAAAAAAARUAAAAAAAIBFQAAAAAAAAEZAAAAAAACARkAAAAAAAABHQAAAAAAAgEdAAAAAAAAASEAAAAAAAIBIQAAAAAAAAElA",
          "dtype": "f8"
         },
         "y": {
          "bdata": "/v//Pwv/yD8AAADgHlHhPwAAAMDKLeY/AAAAAAOx6D8AAADgPULsPwAAAGAfzOs/AAAAAPN47T8BAACADELtPwEAACDqf+0/AQAAwNs/7j8AAABA/n3uPwAAAACwPu8/AAAAIEDA7j8AAABgH9vuPwAAAOBA/u4/AAAAgFv/7j8BAABA/P/uPwAAAIAVge8/AAAAwLxe7z8AAAAgxyDvP////59Gn+8/AAAA4CbB7z8AAADAwDXvPwAAAOAxgO8/AAAAYBWB7z8BAADgW4LvPwEAAAArv+8/////35eg7z8AAABgz4DvPwAAAABEaO8/AAAAgFuh7z8AAACgW6HvPwEAAABSgO8/AQAA4FGA7z8BAACAP7zvP////98lnu8/////H92f7z8BAADAEMPvPwAAAODrI+8/AAAAgJS+7z8AAABg0uDvPwEAAAAnO+8/AAAAwKhj7z8BAABgw5rvPwEAAEBkwe8/AAAAoKO87z8AAADgQqHvPwEAAIACXe8/AAAAQAVJ7z8AAABAzELvPwAAAAAAAPh/",
          "dtype": "f8"
         }
        },
        {
         "mode": "lines+markers",
         "name": "Salmonella_enterica val",
         "type": "scatter",
         "x": {
          "bdata": "AAAAAAAAAAAAAAAAAADwPwAAAAAAAABAAAAAAAAACEAAAAAAAAAQQAAAAAAAABRAAAAAAAAAGEAAAAAAAAAcQAAAAAAAACBAAAAAAAAAIkAAAAAAAAAkQAAAAAAAACZAAAAAAAAAKEAAAAAAAAAqQAAAAAAAACxAAAAAAAAALkAAAAAAAAAwQAAAAAAAADFAAAAAAAAAMkAAAAAAAAAzQAAAAAAAADRAAAAAAAAANUAAAAAAAAA2QAAAAAAAADdAAAAAAAAAOEAAAAAAAAA5QAAAAAAAADpAAAAAAAAAO0AAAAAAAAA8QAAAAAAAAD1AAAAAAAAAPkAAAAAAAAA/QAAAAAAAAEBAAAAAAACAQEAAAAAAAABBQAAAAAAAgEFAAAAAAAAAQkAAAAAAAIBCQAAAAAAAAENAAAAAAACAQ0AAAAAAAABEQAAAAAAAgERAAAAAAAAARUAAAAAAAIBFQAAAAAAAAEZAAAAAAACARkAAAAAAAABHQAAAAAAAgEdAAAAAAAAASEAAAAAAAIBIQAAAAAAAAElA",
          "dtype": "f8"
         },
         "y": {
          "bdata": "AAAAwLSA6D8AAADAg/noPwAAAMANz+w/AAAAQN7a7T8AAADApQHvPwAAAMClAe8/AAAAwKUB7z8AAAAAAADwPwAAAAAAAPA/AAAAAAAA8D8AAAAAAADwPwAAAAAAAPA/AAAAAAAA8D////9fONnuP////1842e4/AAAAAAAA8D////9fONnuP////1842e4/////XzjZ7j////9fONnuP////1842e4/////XzjZ7j////9fONnuP////1842e4/////XzjZ7j////9fONnuP////1842e4/////XzjZ7j////9fONnuP////1842e4/////XzjZ7j////9fONnuP////1842e4/////XzjZ7j////9fONnuP////1842e4/////XzjZ7j////9fONnuP////1842e4/////XzjZ7j////9fONnuP////1842e4/////XzjZ7j////9fONnuP////1842e4/////XzjZ7j////9fONnuP////1842e4/////XzjZ7j////9fONnuPwAAAAAAAPh/",
          "dtype": "f8"
         }
        },
        {
         "mode": "lines+markers",
         "name": "Neisseria_gonorrhoeae train",
         "type": "scatter",
         "x": {
          "bdata": "AAAAAAAAAAAAAAAAAADwPwAAAAAAAABAAAAAAAAACEAAAAAAAAAQQAAAAAAAABRAAAAAAAAAGEAAAAAAAAAcQAAAAAAAACBAAAAAAAAAIkAAAAAAAAAkQAAAAAAAACZAAAAAAAAAKEAAAAAAAAAqQAAAAAAAACxAAAAAAAAALkAAAAAAAAAwQAAAAAAAADFAAAAAAAAAMkAAAAAAAAAzQAAAAAAAADRAAAAAAAAANUAAAAAAAAA2QAAAAAAAADdAAAAAAAAAOEAAAAAAAAA5QAAAAAAAADpAAAAAAAAAO0AAAAAAAAA8QAAAAAAAAD1AAAAAAAAAPkAAAAAAAAA/QAAAAAAAAEBAAAAAAACAQEAAAAAAAABBQAAAAAAAgEFAAAAAAAAAQkAAAAAAAIBCQAAAAAAAAENAAAAAAACAQ0AAAAAAAABEQAAAAAAAgERAAAAAAAAARUAAAAAAAIBFQAAAAAAAAEZAAAAAAACARkAAAAAAAABHQAAAAAAAgEdAAAAAAAAASEAAAAAAAIBIQAAAAAAAAElA",
          "dtype": "f8"
         },
         "y": {
          "bdata": "/v//nz9fuz8AAAAAfXrTPwAAAAC3FeA/AAAAYLIp5D8AAACgIlbnPwAAAABZ3Og/AAAA4Jbx6T8AAABAUqbpPwAAAKD0veo/AAAAAO2R6z8AAADg3U/sPwEAAKBHEu0/AAAAgNWk7D////8fmvHtP////7/E4+0/AQAAQHQg7j////9fwGTuPwAAAGDpje4/AAAAgJJ17z8AAADAM/nuP////599ae8/AAAA4C9Y7z8BAAAAm1DvP/////8nOO8/AAAAADFs7z8AAAAANjLvPwEAAMCOku4/AAAAoHlr7z8AAACAplTvP////z+0Nu8/AQAAoJTH7j8BAABgetXuPwAAAEAWLu8/AAAAIMEN7z8AAACAUHDvPwAAAMAr9+4/////P6iC7z8AAACAam3vPwEAAABYOO8/AAAAIL1f7z8BAACAt4nvPwAAACBBOe8/AAAAwKjv7j8BAABAr0nvPwAAAEBeG+8/AAAAAAr17j8BAABgPRDvPwAAAMDuH+8/////f0in7z8BAABAJcbuPwAAAAAAAPh/",
          "dtype": "f8"
         }
        },
        {
         "mode": "lines+markers",
         "name": "Neisseria_gonorrhoeae val",
         "type": "scatter",
         "x": {
          "bdata": "AAAAAAAAAAAAAAAAAADwPwAAAAAAAABAAAAAAAAACEAAAAAAAAAQQAAAAAAAABRAAAAAAAAAGEAAAAAAAAAcQAAAAAAAACBAAAAAAAAAIkAAAAAAAAAkQAAAAAAAACZAAAAAAAAAKEAAAAAAAAAqQAAAAAAAACxAAAAAAAAALkAAAAAAAAAwQAAAAAAAADFAAAAAAAAAMkAAAAAAAAAzQAAAAAAAADRAAAAAAAAANUAAAAAAAAA2QAAAAAAAADdAAAAAAAAAOEAAAAAAAAA5QAAAAAAAADpAAAAAAAAAO0AAAAAAAAA8QAAAAAAAAD1AAAAAAAAAPkAAAAAAAAA/QAAAAAAAAEBAAAAAAACAQEAAAAAAAABBQAAAAAAAgEFAAAAAAAAAQkAAAAAAAIBCQAAAAAAAAENAAAAAAACAQ0AAAAAAAABEQAAAAAAAgERAAAAAAAAARUAAAAAAAIBFQAAAAAAAAEZAAAAAAACARkAAAAAAAABHQAAAAAAAgEdAAAAAAAAASEAAAAAAAIBIQAAAAAAAAElA",
          "dtype": "f8"
         },
         "y": {
          "bdata": "////vyM7xz8AAADglRbkPwAAAOC9v+c/AAAAgNOj5T8AAAAgNI7pPwAAAEBBiOk/AAAAoBBa6T8AAACgYEnrPwAAAEBBiOk/AAAAAJZf6j8AAABgejXsPwAAAMBadOo/AAAAwK9L6z8AAADAWnTqPwAAAMCvS+s/AAAAIO+r6T8AAADAWnTqPwAAAMCvS+s/AAAAIO+r6T8AAADAWnTqPwAAAMCvS+s/AAAAwK9L6z8AAADAr0vrPwAAAMCvS+s/AAAAwK9L6z8AAADAr0vrPwAAAMCvS+s/AAAAwK9L6z8AAADAr0vrPwAAAMCvS+s/AAAAwK9L6z8AAADAr0vrPwAAAMCvS+s/AAAAwK9L6z8AAADAr0vrPwAAAMCvS+s/AAAAwK9L6z8AAADAr0vrPwAAAMCvS+s/AAAAwK9L6z8AAADAr0vrPwAAAMCvS+s/AAAAwK9L6z8AAADAr0vrPwAAAMCvS+s/AAAAwK9L6z8AAADAr0vrPwAAAMCvS+s/AAAAwK9L6z8AAADAr0vrPwAAAAAAAPh/",
          "dtype": "f8"
         }
        },
        {
         "mode": "lines+markers",
         "name": "Escherichia_coli train",
         "type": "scatter",
         "x": {
          "bdata": "AAAAAAAAAAAAAAAAAADwPwAAAAAAAABAAAAAAAAACEAAAAAAAAAQQAAAAAAAABRAAAAAAAAAGEAAAAAAAAAcQAAAAAAAACBAAAAAAAAAIkAAAAAAAAAkQAAAAAAAACZAAAAAAAAAKEAAAAAAAAAqQAAAAAAAACxAAAAAAAAALkAAAAAAAAAwQAAAAAAAADFAAAAAAAAAMkAAAAAAAAAzQAAAAAAAADRAAAAAAAAANUAAAAAAAAA2QAAAAAAAADdAAAAAAAAAOEAAAAAAAAA5QAAAAAAAADpAAAAAAAAAO0AAAAAAAAA8QAAAAAAAAD1AAAAAAAAAPkAAAAAAAAA/QAAAAAAAAEBAAAAAAACAQEAAAAAAAABBQAAAAAAAgEFAAAAAAAAAQkAAAAAAAIBCQAAAAAAAAENAAAAAAACAQ0AAAAAAAABEQAAAAAAAgERAAAAAAAAARUAAAAAAAIBFQAAAAAAAAEZAAAAAAACARkAAAAAAAABHQAAAAAAAgEdAAAAAAAAASEAAAAAAAIBIQAAAAAAAAElA",
          "dtype": "f8"
         },
         "y": {
          "bdata": "/P//P08IhT/8//+/rO+2P////9/SXrc//////5HCyj/+///f8EjBPwAAAKCoReA//////6Ut3j8AAAAAKhXkPwAAAGAdeec/AAAAAO3j6D8AAAAg7HbqPwAAAAAG1es/AAAAAEP16z8AAACAb5bsPwAAAGAUoew/AQAAQLNc7T////9fPNftPwEAAEBiTO4/AAAA4DKh7j////8/LiPuPwAAAKAW/O0/AAAAAJDC7j8BAACgTXHuP////98bnu4/AAAAYNbR7j8BAACggObuPwAAAECR6e4/AAAAYA0e7z8AAABgGf/uP////z93e+8/AAAAQJzL7j/////fjyvvPwAAACCDNu8/////v0Yy7z8AAABgHU3vPwEAACCzSe8/AAAAYIoB7z8AAADgd9LuPwEAACBsy+4//////ymz7j8BAACgxxnvPwAAAKC1IO8/AAAAALko7z////9/iynvPwEAAKDTBu8/AAAAgBv97j8BAAAAl7DuPwEAAECxXO8/AQAA4N/d7j////8fbQLvPwAAAAAAAPh/",
          "dtype": "f8"
         }
        },
        {
         "mode": "lines+markers",
         "name": "Escherichia_coli val",
         "type": "scatter",
         "x": {
          "bdata": "AAAAAAAAAAAAAAAAAADwPwAAAAAAAABAAAAAAAAACEAAAAAAAAAQQAAAAAAAABRAAAAAAAAAGEAAAAAAAAAcQAAAAAAAACBAAAAAAAAAIkAAAAAAAAAkQAAAAAAAACZAAAAAAAAAKEAAAAAAAAAqQAAAAAAAACxAAAAAAAAALkAAAAAAAAAwQAAAAAAAADFAAAAAAAAAMkAAAAAAAAAzQAAAAAAAADRAAAAAAAAANUAAAAAAAAA2QAAAAAAAADdAAAAAAAAAOEAAAAAAAAA5QAAAAAAAADpAAAAAAAAAO0AAAAAAAAA8QAAAAAAAAD1AAAAAAAAAPkAAAAAAAAA/QAAAAAAAAEBAAAAAAACAQEAAAAAAAABBQAAAAAAAgEFAAAAAAAAAQkAAAAAAAIBCQAAAAAAAAENAAAAAAACAQ0AAAAAAAABEQAAAAAAAgERAAAAAAAAARUAAAAAAAIBFQAAAAAAAAEZAAAAAAACARkAAAAAAAABHQAAAAAAAgEdAAAAAAAAASEAAAAAAAIBIQAAAAAAAAElA",
          "dtype": "f8"
         },
         "y": {
          "bdata": "/////xi91D////+/k1DbPwAAAIAgENM/////f7MI1z8AAAAA7gvjPwAAACBzEuM/AAAA4GwG5z8AAAAASyXlPwAAAMCWNuc/AAAAoBjU5z8AAACguBfpPwAAAKC4F+k/AAAAIOvp6j8AAACguBfpPwAAAEDJCOk/AAAAQMkI6T8AAADAljbnPwAAAMCWNuc/AAAAQMkI6T8AAABAyQjpPwAAAKAY1Oc/AAAAQMkI6T8AAABAyQjpPwAAAEDJCOk/AAAAQMkI6T8AAABAyQjpPwAAAEDJCOk/AAAAQMkI6T8AAABAyQjpPwAAAEDJCOk/AAAAQMkI6T8AAABAyQjpPwAAAEDJCOk/AAAAQMkI6T8AAABAyQjpPwAAAEDJCOk/AAAAQMkI6T8AAABAyQjpPwAAAEDJCOk/AAAAQMkI6T8AAABAyQjpPwAAAEDJCOk/AAAAQMkI6T8AAABAyQjpPwAAAEDJCOk/AAAAQMkI6T8AAABAyQjpPwAAAEDJCOk/AAAAQMkI6T8AAABAyQjpPwAAAAAAAPh/",
          "dtype": "f8"
         }
        },
        {
         "mode": "lines+markers",
         "name": "Klebsiella_pneumoniae train",
         "type": "scatter",
         "x": {
          "bdata": "AAAAAAAAAAAAAAAAAADwPwAAAAAAAABAAAAAAAAACEAAAAAAAAAQQAAAAAAAABRAAAAAAAAAGEAAAAAAAAAcQAAAAAAAACBAAAAAAAAAIkAAAAAAAAAkQAAAAAAAACZAAAAAAAAAKEAAAAAAAAAqQAAAAAAAACxAAAAAAAAALkAAAAAAAAAwQAAAAAAAADFAAAAAAAAAMkAAAAAAAAAzQAAAAAAAADRAAAAAAAAANUAAAAAAAAA2QAAAAAAAADdAAAAAAAAAOEAAAAAAAAA5QAAAAAAAADpAAAAAAAAAO0AAAAAAAAA8QAAAAAAAAD1AAAAAAAAAPkAAAAAAAAA/QAAAAAAAAEBAAAAAAACAQEAAAAAAAABBQAAAAAAAgEFAAAAAAAAAQkAAAAAAAIBCQAAAAAAAAENAAAAAAACAQ0AAAAAAAABEQAAAAAAAgERAAAAAAAAARUAAAAAAAIBFQAAAAAAAAEZAAAAAAACARkAAAAAAAABHQAAAAAAAgEdAAAAAAAAASEAAAAAAAIBIQAAAAAAAAElA",
          "dtype": "f8"
         },
         "y": {
          "bdata": "////H2k0sz/+//8/zKLPP////9/hPNU/AAAAIM932z8AAACg7dTgPwAAAIBK1eM/AAAAQN2+5D8AAADgG87mPwAAAMBHhOg/AAAAoKHG6T8AAABAjo/qPwAAAKC3Ceo/AAAAAMie6z8AAADg6K3sPwAAAKBWUOw/AAAA4Cs07D8BAABAZg3uPwAAAGAZ/+0/AQAAAFJf7T8AAACgHfvtPwAAAOBoRe4/AAAAoCFz7j/////fZsruPwEAACDqqu4/AAAAoB5t7j8BAAAgpcHuPwAAAMAi1O4/////v9Cn7j8AAAAgUKfuPwAAAGAo7u4/AAAAIIXC7j8AAABA2GPuPwEAAIC1vO4/AQAAgPgM7z8AAACA3sLuPwEAACCn4e4/AAAAIBZc7j////9/PF7uPwAAAAD/qu4/AAAAwDht7j8BAADAHBjvPwAAAGDgtu4/AAAAQAZp7j8BAACgAtbuPwEAAKASxu4/AAAAgDHm7j8AAACAl/fuPwEAAGBDvO4/////32TP7j8AAAAAxlvuPwAAAAAAAPh/",
          "dtype": "f8"
         }
        },
        {
         "mode": "lines+markers",
         "name": "Klebsiella_pneumoniae val",
         "type": "scatter",
         "x": {
          "bdata": "AAAAAAAAAAAAAAAAAADwPwAAAAAAAABAAAAAAAAACEAAAAAAAAAQQAAAAAAAABRAAAAAAAAAGEAAAAAAAAAcQAAAAAAAACBAAAAAAAAAIkAAAAAAAAAkQAAAAAAAACZAAAAAAAAAKEAAAAAAAAAqQAAAAAAAACxAAAAAAAAALkAAAAAAAAAwQAAAAAAAADFAAAAAAAAAMkAAAAAAAAAzQAAAAAAAADRAAAAAAAAANUAAAAAAAAA2QAAAAAAAADdAAAAAAAAAOEAAAAAAAAA5QAAAAAAAADpAAAAAAAAAO0AAAAAAAAA8QAAAAAAAAD1AAAAAAAAAPkAAAAAAAAA/QAAAAAAAAEBAAAAAAACAQEAAAAAAAABBQAAAAAAAgEFAAAAAAAAAQkAAAAAAAIBCQAAAAAAAAENAAAAAAACAQ0AAAAAAAABEQAAAAAAAgERAAAAAAAAARUAAAAAAAIBFQAAAAAAAAEZAAAAAAACARkAAAAAAAABHQAAAAAAAgEdAAAAAAAAASEAAAAAAAIBIQAAAAAAAAElA",
          "dtype": "f8"
         },
         "y": {
          "bdata": "+v//f7ujsj8AAADgNYTfPwAAAAC7AuA/AAAAgJTo5j8AAADAXo3kPwAAAADgFeQ/AAAAQO/95z8AAADgV07pPwAAACDLTeo/AAAAgIcG6j8AAAAAbxvpPwAAAMB3lug/AAAAAHFZ6j8AAACgRebpPwAAAKBBkeg/AAAAQDe36T8AAACgRebpPwAAAEAUW+o/AAAAoIOA6j8AAACgYCTrPwAAAKBgJOs/AAAAQBRb6j8AAACgYCTrPwAAAEAUW+o/AAAAQBRb6j8AAABAFFvqPwAAAEAUW+o/AAAAQBRb6j8AAABAFFvqPwAAAEAUW+o/AAAAQBRb6j8AAABAFFvqPwAAAEAUW+o/AAAAQBRb6j8AAABAFFvqPwAAAEAUW+o/AAAAQBRb6j8AAABAFFvqPwAAAEAUW+o/AAAAQBRb6j8AAABAFFvqPwAAAEAUW+o/AAAAQBRb6j8AAABAFFvqPwAAAEAUW+o/AAAAQBRb6j8AAABAFFvqPwAAAEAUW+o/AAAAQBRb6j8AAABAFFvqPwAAAAAAAPh/",
          "dtype": "f8"
         }
        },
        {
         "mode": "lines+markers",
         "name": "Staphylococcus_aureus train",
         "type": "scatter",
         "x": {
          "bdata": "AAAAAAAAAAAAAAAAAADwPwAAAAAAAABAAAAAAAAACEAAAAAAAAAQQAAAAAAAABRAAAAAAAAAGEAAAAAAAAAcQAAAAAAAACBAAAAAAAAAIkAAAAAAAAAkQAAAAAAAACZAAAAAAAAAKEAAAAAAAAAqQAAAAAAAACxAAAAAAAAALkAAAAAAAAAwQAAAAAAAADFAAAAAAAAAMkAAAAAAAAAzQAAAAAAAADRAAAAAAAAANUAAAAAAAAA2QAAAAAAAADdAAAAAAAAAOEAAAAAAAAA5QAAAAAAAADpAAAAAAAAAO0AAAAAAAAA8QAAAAAAAAD1AAAAAAAAAPkAAAAAAAAA/QAAAAAAAAEBAAAAAAACAQEAAAAAAAABBQAAAAAAAgEFAAAAAAAAAQkAAAAAAAIBCQAAAAAAAAENAAAAAAACAQ0AAAAAAAABEQAAAAAAAgERAAAAAAAAARUAAAAAAAIBFQAAAAAAAAEZAAAAAAACARkAAAAAAAABHQAAAAAAAgEdAAAAAAAAASEAAAAAAAIBIQAAAAAAAAElA",
          "dtype": "f8"
         },
         "y": {
          "bdata": "AAAAgOsYyT//////2XXdPwAAAABJXeE/AAAAwNix5D8AAABAXnTlPwAAAKAw5+Y/AAAAwMvF5z8AAAAAMbjpPwAAAIBWCus/AAAAYICU6j8AAABAPnfsPwAAAGDN/es/AAAAIOmL7D8AAADAO1PsP////18qFu0/AQAAIPTw7T8AAADg+tbsPwAAAOCwLu4/////31L27T////+/mQvuPwAAAACA+e0/AQAAIGy/7j8BAAAgcofuPwAAAODpmu4/AAAAYCEc7j8BAAAAXtvuPwAAACBPOe4/AAAAwHmy7j8BAABAISrvPwEAACBsSe8/AQAAIJmV7z////9/ff/uPwAAAKC2iu8/AAAAoJ1E7z8AAABgoNzvP////3+PKe8/AAAAoNi37z////9fA+nuPwEAAEAlS+8/AAAAYMq57z8AAADgOpDvPwAAAGDRcO8/AAAA4Kxx7z8AAADAO3XvPwEAAEB4BO8/////n8Bu7z8AAAAA80rvPwAAAMAocO8/////f4W57z////+/2LfvPwAAAAAAAPh/",
          "dtype": "f8"
         }
        },
        {
         "mode": "lines+markers",
         "name": "Staphylococcus_aureus val",
         "type": "scatter",
         "x": {
          "bdata": "AAAAAAAAAAAAAAAAAADwPwAAAAAAAABAAAAAAAAACEAAAAAAAAAQQAAAAAAAABRAAAAAAAAAGEAAAAAAAAAcQAAAAAAAACBAAAAAAAAAIkAAAAAAAAAkQAAAAAAAACZAAAAAAAAAKEAAAAAAAAAqQAAAAAAAACxAAAAAAAAALkAAAAAAAAAwQAAAAAAAADFAAAAAAAAAMkAAAAAAAAAzQAAAAAAAADRAAAAAAAAANUAAAAAAAAA2QAAAAAAAADdAAAAAAAAAOEAAAAAAAAA5QAAAAAAAADpAAAAAAAAAO0AAAAAAAAA8QAAAAAAAAD1AAAAAAAAAPkAAAAAAAAA/QAAAAAAAAEBAAAAAAACAQEAAAAAAAABBQAAAAAAAgEFAAAAAAAAAQkAAAAAAAIBCQAAAAAAAAENAAAAAAACAQ0AAAAAAAABEQAAAAAAAgERAAAAAAAAARUAAAAAAAIBFQAAAAAAAAEZAAAAAAACARkAAAAAAAABHQAAAAAAAgEdAAAAAAAAASEAAAAAAAIBIQAAAAAAAAElA",
          "dtype": "f8"
         },
         "y": {
          "bdata": "AAAAIIa34T8AAABgaNXcPwAAAGBo1dw/AAAAAJm94D8AAADAxj/mPwAAAKADnOU/AAAAoLvK5T8AAAAAp3zpPwAAAACnfOk/AAAAgJ+H5j8AAAAg7LHrPwAAAODTVOk/AAAAADfV5j8AAACgWfLoPwAAAMCEZ+k/AAAAoFny6D8AAACg9ZXrPwAAAODTVOk/AAAA4NNU6T8AAAAg+sHqPwAAAEAYgOo/AAAAYGh56j8AAAAgAuPqPwAAAGBoeeo/AAAAQBiA6j8AAAAgeNXpPwAAAODTVOk/AAAAAOZ46T8AAACAbzfoPwAAAGBoeeo/AAAAoPvT6D8AAAAgGrfpPwAAAGC5Ieg/AAAAYLkh6D8AAADgoP7mPwAAAGC5Ieg/AAAAYLkh6D8AAABguSHoPwAAAGC5Ieg/AAAAYLkh6D8AAABguSHoPwAAAGC5Ieg/AAAAYLkh6D8AAABguSHoPwAAAGC5Ieg/AAAAYLkh6D8AAABguSHoPwAAAGC5Ieg/AAAAYLkh6D8AAABguSHoPwAAAAAAAPh/",
          "dtype": "f8"
         }
        }
       ],
       "layout": {
        "height": 1000,
        "template": {
         "data": {
          "bar": [
           {
            "error_x": {
             "color": "#2a3f5f"
            },
            "error_y": {
             "color": "#2a3f5f"
            },
            "marker": {
             "line": {
              "color": "#E5ECF6",
              "width": 0.5
             },
             "pattern": {
              "fillmode": "overlay",
              "size": 10,
              "solidity": 0.2
             }
            },
            "type": "bar"
           }
          ],
          "barpolar": [
           {
            "marker": {
             "line": {
              "color": "#E5ECF6",
              "width": 0.5
             },
             "pattern": {
              "fillmode": "overlay",
              "size": 10,
              "solidity": 0.2
             }
            },
            "type": "barpolar"
           }
          ],
          "carpet": [
           {
            "aaxis": {
             "endlinecolor": "#2a3f5f",
             "gridcolor": "white",
             "linecolor": "white",
             "minorgridcolor": "white",
             "startlinecolor": "#2a3f5f"
            },
            "baxis": {
             "endlinecolor": "#2a3f5f",
             "gridcolor": "white",
             "linecolor": "white",
             "minorgridcolor": "white",
             "startlinecolor": "#2a3f5f"
            },
            "type": "carpet"
           }
          ],
          "choropleth": [
           {
            "colorbar": {
             "outlinewidth": 0,
             "ticks": ""
            },
            "type": "choropleth"
           }
          ],
          "contour": [
           {
            "colorbar": {
             "outlinewidth": 0,
             "ticks": ""
            },
            "colorscale": [
             [
              0,
              "#0d0887"
             ],
             [
              0.1111111111111111,
              "#46039f"
             ],
             [
              0.2222222222222222,
              "#7201a8"
             ],
             [
              0.3333333333333333,
              "#9c179e"
             ],
             [
              0.4444444444444444,
              "#bd3786"
             ],
             [
              0.5555555555555556,
              "#d8576b"
             ],
             [
              0.6666666666666666,
              "#ed7953"
             ],
             [
              0.7777777777777778,
              "#fb9f3a"
             ],
             [
              0.8888888888888888,
              "#fdca26"
             ],
             [
              1,
              "#f0f921"
             ]
            ],
            "type": "contour"
           }
          ],
          "contourcarpet": [
           {
            "colorbar": {
             "outlinewidth": 0,
             "ticks": ""
            },
            "type": "contourcarpet"
           }
          ],
          "heatmap": [
           {
            "colorbar": {
             "outlinewidth": 0,
             "ticks": ""
            },
            "colorscale": [
             [
              0,
              "#0d0887"
             ],
             [
              0.1111111111111111,
              "#46039f"
             ],
             [
              0.2222222222222222,
              "#7201a8"
             ],
             [
              0.3333333333333333,
              "#9c179e"
             ],
             [
              0.4444444444444444,
              "#bd3786"
             ],
             [
              0.5555555555555556,
              "#d8576b"
             ],
             [
              0.6666666666666666,
              "#ed7953"
             ],
             [
              0.7777777777777778,
              "#fb9f3a"
             ],
             [
              0.8888888888888888,
              "#fdca26"
             ],
             [
              1,
              "#f0f921"
             ]
            ],
            "type": "heatmap"
           }
          ],
          "histogram": [
           {
            "marker": {
             "pattern": {
              "fillmode": "overlay",
              "size": 10,
              "solidity": 0.2
             }
            },
            "type": "histogram"
           }
          ],
          "histogram2d": [
           {
            "colorbar": {
             "outlinewidth": 0,
             "ticks": ""
            },
            "colorscale": [
             [
              0,
              "#0d0887"
             ],
             [
              0.1111111111111111,
              "#46039f"
             ],
             [
              0.2222222222222222,
              "#7201a8"
             ],
             [
              0.3333333333333333,
              "#9c179e"
             ],
             [
              0.4444444444444444,
              "#bd3786"
             ],
             [
              0.5555555555555556,
              "#d8576b"
             ],
             [
              0.6666666666666666,
              "#ed7953"
             ],
             [
              0.7777777777777778,
              "#fb9f3a"
             ],
             [
              0.8888888888888888,
              "#fdca26"
             ],
             [
              1,
              "#f0f921"
             ]
            ],
            "type": "histogram2d"
           }
          ],
          "histogram2dcontour": [
           {
            "colorbar": {
             "outlinewidth": 0,
             "ticks": ""
            },
            "colorscale": [
             [
              0,
              "#0d0887"
             ],
             [
              0.1111111111111111,
              "#46039f"
             ],
             [
              0.2222222222222222,
              "#7201a8"
             ],
             [
              0.3333333333333333,
              "#9c179e"
             ],
             [
              0.4444444444444444,
              "#bd3786"
             ],
             [
              0.5555555555555556,
              "#d8576b"
             ],
             [
              0.6666666666666666,
              "#ed7953"
             ],
             [
              0.7777777777777778,
              "#fb9f3a"
             ],
             [
              0.8888888888888888,
              "#fdca26"
             ],
             [
              1,
              "#f0f921"
             ]
            ],
            "type": "histogram2dcontour"
           }
          ],
          "mesh3d": [
           {
            "colorbar": {
             "outlinewidth": 0,
             "ticks": ""
            },
            "type": "mesh3d"
           }
          ],
          "parcoords": [
           {
            "line": {
             "colorbar": {
              "outlinewidth": 0,
              "ticks": ""
             }
            },
            "type": "parcoords"
           }
          ],
          "pie": [
           {
            "automargin": true,
            "type": "pie"
           }
          ],
          "scatter": [
           {
            "fillpattern": {
             "fillmode": "overlay",
             "size": 10,
             "solidity": 0.2
            },
            "type": "scatter"
           }
          ],
          "scatter3d": [
           {
            "line": {
             "colorbar": {
              "outlinewidth": 0,
              "ticks": ""
             }
            },
            "marker": {
             "colorbar": {
              "outlinewidth": 0,
              "ticks": ""
             }
            },
            "type": "scatter3d"
           }
          ],
          "scattercarpet": [
           {
            "marker": {
             "colorbar": {
              "outlinewidth": 0,
              "ticks": ""
             }
            },
            "type": "scattercarpet"
           }
          ],
          "scattergeo": [
           {
            "marker": {
             "colorbar": {
              "outlinewidth": 0,
              "ticks": ""
             }
            },
            "type": "scattergeo"
           }
          ],
          "scattergl": [
           {
            "marker": {
             "colorbar": {
              "outlinewidth": 0,
              "ticks": ""
             }
            },
            "type": "scattergl"
           }
          ],
          "scattermap": [
           {
            "marker": {
             "colorbar": {
              "outlinewidth": 0,
              "ticks": ""
             }
            },
            "type": "scattermap"
           }
          ],
          "scattermapbox": [
           {
            "marker": {
             "colorbar": {
              "outlinewidth": 0,
              "ticks": ""
             }
            },
            "type": "scattermapbox"
           }
          ],
          "scatterpolar": [
           {
            "marker": {
             "colorbar": {
              "outlinewidth": 0,
              "ticks": ""
             }
            },
            "type": "scatterpolar"
           }
          ],
          "scatterpolargl": [
           {
            "marker": {
             "colorbar": {
              "outlinewidth": 0,
              "ticks": ""
             }
            },
            "type": "scatterpolargl"
           }
          ],
          "scatterternary": [
           {
            "marker": {
             "colorbar": {
              "outlinewidth": 0,
              "ticks": ""
             }
            },
            "type": "scatterternary"
           }
          ],
          "surface": [
           {
            "colorbar": {
             "outlinewidth": 0,
             "ticks": ""
            },
            "colorscale": [
             [
              0,
              "#0d0887"
             ],
             [
              0.1111111111111111,
              "#46039f"
             ],
             [
              0.2222222222222222,
              "#7201a8"
             ],
             [
              0.3333333333333333,
              "#9c179e"
             ],
             [
              0.4444444444444444,
              "#bd3786"
             ],
             [
              0.5555555555555556,
              "#d8576b"
             ],
             [
              0.6666666666666666,
              "#ed7953"
             ],
             [
              0.7777777777777778,
              "#fb9f3a"
             ],
             [
              0.8888888888888888,
              "#fdca26"
             ],
             [
              1,
              "#f0f921"
             ]
            ],
            "type": "surface"
           }
          ],
          "table": [
           {
            "cells": {
             "fill": {
              "color": "#EBF0F8"
             },
             "line": {
              "color": "white"
             }
            },
            "header": {
             "fill": {
              "color": "#C8D4E3"
             },
             "line": {
              "color": "white"
             }
            },
            "type": "table"
           }
          ]
         },
         "layout": {
          "annotationdefaults": {
           "arrowcolor": "#2a3f5f",
           "arrowhead": 0,
           "arrowwidth": 1
          },
          "autotypenumbers": "strict",
          "coloraxis": {
           "colorbar": {
            "outlinewidth": 0,
            "ticks": ""
           }
          },
          "colorscale": {
           "diverging": [
            [
             0,
             "#8e0152"
            ],
            [
             0.1,
             "#c51b7d"
            ],
            [
             0.2,
             "#de77ae"
            ],
            [
             0.3,
             "#f1b6da"
            ],
            [
             0.4,
             "#fde0ef"
            ],
            [
             0.5,
             "#f7f7f7"
            ],
            [
             0.6,
             "#e6f5d0"
            ],
            [
             0.7,
             "#b8e186"
            ],
            [
             0.8,
             "#7fbc41"
            ],
            [
             0.9,
             "#4d9221"
            ],
            [
             1,
             "#276419"
            ]
           ],
           "sequential": [
            [
             0,
             "#0d0887"
            ],
            [
             0.1111111111111111,
             "#46039f"
            ],
            [
             0.2222222222222222,
             "#7201a8"
            ],
            [
             0.3333333333333333,
             "#9c179e"
            ],
            [
             0.4444444444444444,
             "#bd3786"
            ],
            [
             0.5555555555555556,
             "#d8576b"
            ],
            [
             0.6666666666666666,
             "#ed7953"
            ],
            [
             0.7777777777777778,
             "#fb9f3a"
            ],
            [
             0.8888888888888888,
             "#fdca26"
            ],
            [
             1,
             "#f0f921"
            ]
           ],
           "sequentialminus": [
            [
             0,
             "#0d0887"
            ],
            [
             0.1111111111111111,
             "#46039f"
            ],
            [
             0.2222222222222222,
             "#7201a8"
            ],
            [
             0.3333333333333333,
             "#9c179e"
            ],
            [
             0.4444444444444444,
             "#bd3786"
            ],
            [
             0.5555555555555556,
             "#d8576b"
            ],
            [
             0.6666666666666666,
             "#ed7953"
            ],
            [
             0.7777777777777778,
             "#fb9f3a"
            ],
            [
             0.8888888888888888,
             "#fdca26"
            ],
            [
             1,
             "#f0f921"
            ]
           ]
          },
          "colorway": [
           "#636efa",
           "#EF553B",
           "#00cc96",
           "#ab63fa",
           "#FFA15A",
           "#19d3f3",
           "#FF6692",
           "#B6E880",
           "#FF97FF",
           "#FECB52"
          ],
          "font": {
           "color": "#2a3f5f"
          },
          "geo": {
           "bgcolor": "white",
           "lakecolor": "white",
           "landcolor": "#E5ECF6",
           "showlakes": true,
           "showland": true,
           "subunitcolor": "white"
          },
          "hoverlabel": {
           "align": "left"
          },
          "hovermode": "closest",
          "mapbox": {
           "style": "light"
          },
          "paper_bgcolor": "white",
          "plot_bgcolor": "#E5ECF6",
          "polar": {
           "angularaxis": {
            "gridcolor": "white",
            "linecolor": "white",
            "ticks": ""
           },
           "bgcolor": "#E5ECF6",
           "radialaxis": {
            "gridcolor": "white",
            "linecolor": "white",
            "ticks": ""
           }
          },
          "scene": {
           "xaxis": {
            "backgroundcolor": "#E5ECF6",
            "gridcolor": "white",
            "gridwidth": 2,
            "linecolor": "white",
            "showbackground": true,
            "ticks": "",
            "zerolinecolor": "white"
           },
           "yaxis": {
            "backgroundcolor": "#E5ECF6",
            "gridcolor": "white",
            "gridwidth": 2,
            "linecolor": "white",
            "showbackground": true,
            "ticks": "",
            "zerolinecolor": "white"
           },
           "zaxis": {
            "backgroundcolor": "#E5ECF6",
            "gridcolor": "white",
            "gridwidth": 2,
            "linecolor": "white",
            "showbackground": true,
            "ticks": "",
            "zerolinecolor": "white"
           }
          },
          "shapedefaults": {
           "line": {
            "color": "#2a3f5f"
           }
          },
          "ternary": {
           "aaxis": {
            "gridcolor": "white",
            "linecolor": "white",
            "ticks": ""
           },
           "baxis": {
            "gridcolor": "white",
            "linecolor": "white",
            "ticks": ""
           },
           "bgcolor": "#E5ECF6",
           "caxis": {
            "gridcolor": "white",
            "linecolor": "white",
            "ticks": ""
           }
          },
          "title": {
           "x": 0.05
          },
          "xaxis": {
           "automargin": true,
           "gridcolor": "white",
           "linecolor": "white",
           "ticks": "",
           "title": {
            "standoff": 15
           },
           "zerolinecolor": "white",
           "zerolinewidth": 2
          },
          "yaxis": {
           "automargin": true,
           "gridcolor": "white",
           "linecolor": "white",
           "ticks": "",
           "title": {
            "standoff": 15
           },
           "zerolinecolor": "white",
           "zerolinewidth": 2
          }
         }
        },
        "width": 1200
       }
      }
     },
     "metadata": {},
     "output_type": "display_data"
    }
   ],
   "source": [
    "p = Path(\"logs\")\n",
    "all_metrics = {}\n",
    "for i in p.glob(\"*\"):\n",
    "    metrics = pd.read_csv(i / \"version_0\" / \"metrics.csv\")\n",
    "    metrics = metrics.groupby(\"epoch\").mean().reset_index()\n",
    "    metrics = metrics[[\"epoch\", \"train_mcc\", \"val_mcc\"]]\n",
    "    all_metrics[str(i.name)] = metrics\n",
    "import plotly.graph_objects as go\n",
    "\n",
    "fig = go.Figure()\n",
    "for name, metrics in all_metrics.items():\n",
    "    fig.add_trace(\n",
    "        go.Scatter(\n",
    "            x=metrics[\"epoch\"],\n",
    "            y=metrics[\"train_mcc\"],\n",
    "            mode=\"lines+markers\",\n",
    "            name=f\"{name} train\",\n",
    "            line=dict(dash=\"dash\"),\n",
    "        )\n",
    "    )\n",
    "    fig.add_trace(\n",
    "        go.Scatter(\n",
    "            x=metrics[\"epoch\"],\n",
    "            y=metrics[\"val_mcc\"],\n",
    "            mode=\"lines+markers\",\n",
    "            name=f\"{name} val\",\n",
    "        )\n",
    "    )\n",
    "fig.update_layout(width=1200, height=1000)\n",
    "fig.show()"
   ]
  },
  {
   "cell_type": "code",
   "execution_count": 52,
   "id": "4517ab8f",
   "metadata": {},
   "outputs": [
    {
     "data": {
      "application/vnd.plotly.v1+json": {
       "config": {
        "plotlyServerURL": "https://plot.ly"
       },
       "data": [
        {
         "hovertemplate": "variable=train_mcc<br>epoch=%{x}<br>value=%{y}<extra></extra>",
         "legendgroup": "train_mcc",
         "line": {
          "color": "#636efa",
          "dash": "solid"
         },
         "marker": {
          "symbol": "circle"
         },
         "mode": "lines",
         "name": "train_mcc",
         "orientation": "v",
         "showlegend": true,
         "type": "scatter",
         "x": {
          "bdata": "AAAAAAAAAAAAAAAAAADwPwAAAAAAAABAAAAAAAAACEAAAAAAAAAQQAAAAAAAABRAAAAAAAAAGEAAAAAAAAAcQAAAAAAAACBAAAAAAAAAIkAAAAAAAAAkQAAAAAAAACZAAAAAAAAAKEAAAAAAAAAqQAAAAAAAACxAAAAAAAAALkAAAAAAAAAwQAAAAAAAADFAAAAAAAAAMkAAAAAAAAAzQAAAAAAAADRAAAAAAAAANUAAAAAAAAA2QAAAAAAAADdAAAAAAAAAOEAAAAAAAAA5QAAAAAAAADpAAAAAAAAAO0AAAAAAAAA8QAAAAAAAAD1AAAAAAAAAPkAAAAAAAAA/QAAAAAAAAEBAAAAAAACAQEAAAAAAAABBQAAAAAAAgEFAAAAAAAAAQkAAAAAAAIBCQAAAAAAAAENAAAAAAACAQ0AAAAAAAABEQAAAAAAAgERAAAAAAAAARUAAAAAAAIBFQAAAAAAAAEZAAAAAAACARkAAAAAAAABHQAAAAAAAgEdAAAAAAAAASEAAAAAAAIBIQAAAAAAAAElA",
          "dtype": "f8"
         },
         "xaxis": "x",
         "y": {
          "bdata": "+///n1rDsT/8//9f6e21P/7//x9aFsk/AAAAQIhv0z//////1UzYP////5+Evtk/AAAAwEeK4z8AAAAgK8njPwAAAKDt8Oc/AAAAAEIA6D8AAADg8yTnPwAAAABJkeo/AAAAQIJd6j8AAABgyEnqPwAAAMDg2us/AAAAoATi6z8AAACgvpDsPwAAAAD+ees/AAAA4DOX7T8AAACA4IvtPwEAACDexe0/////n8RO7j//////0m/uPwEAAABip+4/////X7ag7j8AAAAAgODuP////x9hx+4/////35eX7j8AAAAAAZHuPwAAAIBfFe8/////v9Qp7j8AAACAJonuPwAAAECEO+4/AQAA4KLs7j8AAADgvRzvPwEAAECxpu4/////P7rA7j////9/iZbuP////x80h+4/AAAA4DID7z8BAACAimTvP////182Su4/AQAAwBQR7z8AAAAgvr7uP////59W9u4/AQAAIDN37j////8fXWHuP////1/txe4/AQAAYLM27j8BAADAxwDvPwAAAAAAAPh/",
          "dtype": "f8"
         },
         "yaxis": "y"
        },
        {
         "hovertemplate": "variable=val_mcc<br>epoch=%{x}<br>value=%{y}<extra></extra>",
         "legendgroup": "val_mcc",
         "line": {
          "color": "#EF553B",
          "dash": "solid"
         },
         "marker": {
          "symbol": "circle"
         },
         "mode": "lines",
         "name": "val_mcc",
         "orientation": "v",
         "showlegend": true,
         "type": "scatter",
         "x": {
          "bdata": "AAAAAAAAAAAAAAAAAADwPwAAAAAAAABAAAAAAAAACEAAAAAAAAAQQAAAAAAAABRAAAAAAAAAGEAAAAAAAAAcQAAAAAAAACBAAAAAAAAAIkAAAAAAAAAkQAAAAAAAACZAAAAAAAAAKEAAAAAAAAAqQAAAAAAAACxAAAAAAAAALkAAAAAAAAAwQAAAAAAAADFAAAAAAAAAMkAAAAAAAAAzQAAAAAAAADRAAAAAAAAANUAAAAAAAAA2QAAAAAAAADdAAAAAAAAAOEAAAAAAAAA5QAAAAAAAADpAAAAAAAAAO0AAAAAAAAA8QAAAAAAAAD1AAAAAAAAAPkAAAAAAAAA/QAAAAAAAAEBAAAAAAACAQEAAAAAAAABBQAAAAAAAgEFAAAAAAAAAQkAAAAAAAIBCQAAAAAAAAENAAAAAAACAQ0AAAAAAAABEQAAAAAAAgERAAAAAAAAARUAAAAAAAIBFQAAAAAAAAEZAAAAAAACARkAAAAAAAABHQAAAAAAAgEdAAAAAAAAASEAAAAAAAIBIQAAAAAAAAElA",
          "dtype": "f8"
         },
         "xaxis": "x",
         "y": {
          "bdata": "+v//f7ujsj/6//9/u6OyP/7//7+3hcg/////vxkNyj8AAABgUljgPwAAAMAI9uE/AAAAoPCX5j8AAACgv7PmPwAAAIA5k+c/AAAAQHFJ6T8AAADAd5boPwAAAKBBkeg/AAAAYPmi6D8AAADgV07pPwAAACBKL+o/AAAAoEXm6T8AAAAAIfroPwAAAAAh+ug/AAAAoEPi6j8AAACgQZHoPwAAAOBXTuk/AAAA4FdO6T8AAACgQZHoPwAAAKBBkeg/AAAA4FdO6T8AAADgV07pPwAAAOBXTuk/AAAA4FdO6T8AAADgV07pPwAAAOBXTuk/AAAA4FdO6T8AAADgV07pPwAAAOBXTuk/AAAA4FdO6T8AAADgV07pPwAAAOBXTuk/AAAA4FdO6T8AAADgV07pPwAAAOBXTuk/AAAA4FdO6T8AAADgV07pPwAAAOBXTuk/AAAA4FdO6T8AAADgV07pPwAAAOBXTuk/AAAA4FdO6T8AAADgV07pPwAAAOBXTuk/AAAA4FdO6T8AAADgV07pPwAAAAAAAPh/",
          "dtype": "f8"
         },
         "yaxis": "y"
        }
       ],
       "layout": {
        "legend": {
         "title": {
          "text": "variable"
         },
         "tracegroupgap": 0
        },
        "margin": {
         "t": 60
        },
        "template": {
         "data": {
          "bar": [
           {
            "error_x": {
             "color": "#2a3f5f"
            },
            "error_y": {
             "color": "#2a3f5f"
            },
            "marker": {
             "line": {
              "color": "#E5ECF6",
              "width": 0.5
             },
             "pattern": {
              "fillmode": "overlay",
              "size": 10,
              "solidity": 0.2
             }
            },
            "type": "bar"
           }
          ],
          "barpolar": [
           {
            "marker": {
             "line": {
              "color": "#E5ECF6",
              "width": 0.5
             },
             "pattern": {
              "fillmode": "overlay",
              "size": 10,
              "solidity": 0.2
             }
            },
            "type": "barpolar"
           }
          ],
          "carpet": [
           {
            "aaxis": {
             "endlinecolor": "#2a3f5f",
             "gridcolor": "white",
             "linecolor": "white",
             "minorgridcolor": "white",
             "startlinecolor": "#2a3f5f"
            },
            "baxis": {
             "endlinecolor": "#2a3f5f",
             "gridcolor": "white",
             "linecolor": "white",
             "minorgridcolor": "white",
             "startlinecolor": "#2a3f5f"
            },
            "type": "carpet"
           }
          ],
          "choropleth": [
           {
            "colorbar": {
             "outlinewidth": 0,
             "ticks": ""
            },
            "type": "choropleth"
           }
          ],
          "contour": [
           {
            "colorbar": {
             "outlinewidth": 0,
             "ticks": ""
            },
            "colorscale": [
             [
              0,
              "#0d0887"
             ],
             [
              0.1111111111111111,
              "#46039f"
             ],
             [
              0.2222222222222222,
              "#7201a8"
             ],
             [
              0.3333333333333333,
              "#9c179e"
             ],
             [
              0.4444444444444444,
              "#bd3786"
             ],
             [
              0.5555555555555556,
              "#d8576b"
             ],
             [
              0.6666666666666666,
              "#ed7953"
             ],
             [
              0.7777777777777778,
              "#fb9f3a"
             ],
             [
              0.8888888888888888,
              "#fdca26"
             ],
             [
              1,
              "#f0f921"
             ]
            ],
            "type": "contour"
           }
          ],
          "contourcarpet": [
           {
            "colorbar": {
             "outlinewidth": 0,
             "ticks": ""
            },
            "type": "contourcarpet"
           }
          ],
          "heatmap": [
           {
            "colorbar": {
             "outlinewidth": 0,
             "ticks": ""
            },
            "colorscale": [
             [
              0,
              "#0d0887"
             ],
             [
              0.1111111111111111,
              "#46039f"
             ],
             [
              0.2222222222222222,
              "#7201a8"
             ],
             [
              0.3333333333333333,
              "#9c179e"
             ],
             [
              0.4444444444444444,
              "#bd3786"
             ],
             [
              0.5555555555555556,
              "#d8576b"
             ],
             [
              0.6666666666666666,
              "#ed7953"
             ],
             [
              0.7777777777777778,
              "#fb9f3a"
             ],
             [
              0.8888888888888888,
              "#fdca26"
             ],
             [
              1,
              "#f0f921"
             ]
            ],
            "type": "heatmap"
           }
          ],
          "histogram": [
           {
            "marker": {
             "pattern": {
              "fillmode": "overlay",
              "size": 10,
              "solidity": 0.2
             }
            },
            "type": "histogram"
           }
          ],
          "histogram2d": [
           {
            "colorbar": {
             "outlinewidth": 0,
             "ticks": ""
            },
            "colorscale": [
             [
              0,
              "#0d0887"
             ],
             [
              0.1111111111111111,
              "#46039f"
             ],
             [
              0.2222222222222222,
              "#7201a8"
             ],
             [
              0.3333333333333333,
              "#9c179e"
             ],
             [
              0.4444444444444444,
              "#bd3786"
             ],
             [
              0.5555555555555556,
              "#d8576b"
             ],
             [
              0.6666666666666666,
              "#ed7953"
             ],
             [
              0.7777777777777778,
              "#fb9f3a"
             ],
             [
              0.8888888888888888,
              "#fdca26"
             ],
             [
              1,
              "#f0f921"
             ]
            ],
            "type": "histogram2d"
           }
          ],
          "histogram2dcontour": [
           {
            "colorbar": {
             "outlinewidth": 0,
             "ticks": ""
            },
            "colorscale": [
             [
              0,
              "#0d0887"
             ],
             [
              0.1111111111111111,
              "#46039f"
             ],
             [
              0.2222222222222222,
              "#7201a8"
             ],
             [
              0.3333333333333333,
              "#9c179e"
             ],
             [
              0.4444444444444444,
              "#bd3786"
             ],
             [
              0.5555555555555556,
              "#d8576b"
             ],
             [
              0.6666666666666666,
              "#ed7953"
             ],
             [
              0.7777777777777778,
              "#fb9f3a"
             ],
             [
              0.8888888888888888,
              "#fdca26"
             ],
             [
              1,
              "#f0f921"
             ]
            ],
            "type": "histogram2dcontour"
           }
          ],
          "mesh3d": [
           {
            "colorbar": {
             "outlinewidth": 0,
             "ticks": ""
            },
            "type": "mesh3d"
           }
          ],
          "parcoords": [
           {
            "line": {
             "colorbar": {
              "outlinewidth": 0,
              "ticks": ""
             }
            },
            "type": "parcoords"
           }
          ],
          "pie": [
           {
            "automargin": true,
            "type": "pie"
           }
          ],
          "scatter": [
           {
            "fillpattern": {
             "fillmode": "overlay",
             "size": 10,
             "solidity": 0.2
            },
            "type": "scatter"
           }
          ],
          "scatter3d": [
           {
            "line": {
             "colorbar": {
              "outlinewidth": 0,
              "ticks": ""
             }
            },
            "marker": {
             "colorbar": {
              "outlinewidth": 0,
              "ticks": ""
             }
            },
            "type": "scatter3d"
           }
          ],
          "scattercarpet": [
           {
            "marker": {
             "colorbar": {
              "outlinewidth": 0,
              "ticks": ""
             }
            },
            "type": "scattercarpet"
           }
          ],
          "scattergeo": [
           {
            "marker": {
             "colorbar": {
              "outlinewidth": 0,
              "ticks": ""
             }
            },
            "type": "scattergeo"
           }
          ],
          "scattergl": [
           {
            "marker": {
             "colorbar": {
              "outlinewidth": 0,
              "ticks": ""
             }
            },
            "type": "scattergl"
           }
          ],
          "scattermap": [
           {
            "marker": {
             "colorbar": {
              "outlinewidth": 0,
              "ticks": ""
             }
            },
            "type": "scattermap"
           }
          ],
          "scattermapbox": [
           {
            "marker": {
             "colorbar": {
              "outlinewidth": 0,
              "ticks": ""
             }
            },
            "type": "scattermapbox"
           }
          ],
          "scatterpolar": [
           {
            "marker": {
             "colorbar": {
              "outlinewidth": 0,
              "ticks": ""
             }
            },
            "type": "scatterpolar"
           }
          ],
          "scatterpolargl": [
           {
            "marker": {
             "colorbar": {
              "outlinewidth": 0,
              "ticks": ""
             }
            },
            "type": "scatterpolargl"
           }
          ],
          "scatterternary": [
           {
            "marker": {
             "colorbar": {
              "outlinewidth": 0,
              "ticks": ""
             }
            },
            "type": "scatterternary"
           }
          ],
          "surface": [
           {
            "colorbar": {
             "outlinewidth": 0,
             "ticks": ""
            },
            "colorscale": [
             [
              0,
              "#0d0887"
             ],
             [
              0.1111111111111111,
              "#46039f"
             ],
             [
              0.2222222222222222,
              "#7201a8"
             ],
             [
              0.3333333333333333,
              "#9c179e"
             ],
             [
              0.4444444444444444,
              "#bd3786"
             ],
             [
              0.5555555555555556,
              "#d8576b"
             ],
             [
              0.6666666666666666,
              "#ed7953"
             ],
             [
              0.7777777777777778,
              "#fb9f3a"
             ],
             [
              0.8888888888888888,
              "#fdca26"
             ],
             [
              1,
              "#f0f921"
             ]
            ],
            "type": "surface"
           }
          ],
          "table": [
           {
            "cells": {
             "fill": {
              "color": "#EBF0F8"
             },
             "line": {
              "color": "white"
             }
            },
            "header": {
             "fill": {
              "color": "#C8D4E3"
             },
             "line": {
              "color": "white"
             }
            },
            "type": "table"
           }
          ]
         },
         "layout": {
          "annotationdefaults": {
           "arrowcolor": "#2a3f5f",
           "arrowhead": 0,
           "arrowwidth": 1
          },
          "autotypenumbers": "strict",
          "coloraxis": {
           "colorbar": {
            "outlinewidth": 0,
            "ticks": ""
           }
          },
          "colorscale": {
           "diverging": [
            [
             0,
             "#8e0152"
            ],
            [
             0.1,
             "#c51b7d"
            ],
            [
             0.2,
             "#de77ae"
            ],
            [
             0.3,
             "#f1b6da"
            ],
            [
             0.4,
             "#fde0ef"
            ],
            [
             0.5,
             "#f7f7f7"
            ],
            [
             0.6,
             "#e6f5d0"
            ],
            [
             0.7,
             "#b8e186"
            ],
            [
             0.8,
             "#7fbc41"
            ],
            [
             0.9,
             "#4d9221"
            ],
            [
             1,
             "#276419"
            ]
           ],
           "sequential": [
            [
             0,
             "#0d0887"
            ],
            [
             0.1111111111111111,
             "#46039f"
            ],
            [
             0.2222222222222222,
             "#7201a8"
            ],
            [
             0.3333333333333333,
             "#9c179e"
            ],
            [
             0.4444444444444444,
             "#bd3786"
            ],
            [
             0.5555555555555556,
             "#d8576b"
            ],
            [
             0.6666666666666666,
             "#ed7953"
            ],
            [
             0.7777777777777778,
             "#fb9f3a"
            ],
            [
             0.8888888888888888,
             "#fdca26"
            ],
            [
             1,
             "#f0f921"
            ]
           ],
           "sequentialminus": [
            [
             0,
             "#0d0887"
            ],
            [
             0.1111111111111111,
             "#46039f"
            ],
            [
             0.2222222222222222,
             "#7201a8"
            ],
            [
             0.3333333333333333,
             "#9c179e"
            ],
            [
             0.4444444444444444,
             "#bd3786"
            ],
            [
             0.5555555555555556,
             "#d8576b"
            ],
            [
             0.6666666666666666,
             "#ed7953"
            ],
            [
             0.7777777777777778,
             "#fb9f3a"
            ],
            [
             0.8888888888888888,
             "#fdca26"
            ],
            [
             1,
             "#f0f921"
            ]
           ]
          },
          "colorway": [
           "#636efa",
           "#EF553B",
           "#00cc96",
           "#ab63fa",
           "#FFA15A",
           "#19d3f3",
           "#FF6692",
           "#B6E880",
           "#FF97FF",
           "#FECB52"
          ],
          "font": {
           "color": "#2a3f5f"
          },
          "geo": {
           "bgcolor": "white",
           "lakecolor": "white",
           "landcolor": "#E5ECF6",
           "showlakes": true,
           "showland": true,
           "subunitcolor": "white"
          },
          "hoverlabel": {
           "align": "left"
          },
          "hovermode": "closest",
          "mapbox": {
           "style": "light"
          },
          "paper_bgcolor": "white",
          "plot_bgcolor": "#E5ECF6",
          "polar": {
           "angularaxis": {
            "gridcolor": "white",
            "linecolor": "white",
            "ticks": ""
           },
           "bgcolor": "#E5ECF6",
           "radialaxis": {
            "gridcolor": "white",
            "linecolor": "white",
            "ticks": ""
           }
          },
          "scene": {
           "xaxis": {
            "backgroundcolor": "#E5ECF6",
            "gridcolor": "white",
            "gridwidth": 2,
            "linecolor": "white",
            "showbackground": true,
            "ticks": "",
            "zerolinecolor": "white"
           },
           "yaxis": {
            "backgroundcolor": "#E5ECF6",
            "gridcolor": "white",
            "gridwidth": 2,
            "linecolor": "white",
            "showbackground": true,
            "ticks": "",
            "zerolinecolor": "white"
           },
           "zaxis": {
            "backgroundcolor": "#E5ECF6",
            "gridcolor": "white",
            "gridwidth": 2,
            "linecolor": "white",
            "showbackground": true,
            "ticks": "",
            "zerolinecolor": "white"
           }
          },
          "shapedefaults": {
           "line": {
            "color": "#2a3f5f"
           }
          },
          "ternary": {
           "aaxis": {
            "gridcolor": "white",
            "linecolor": "white",
            "ticks": ""
           },
           "baxis": {
            "gridcolor": "white",
            "linecolor": "white",
            "ticks": ""
           },
           "bgcolor": "#E5ECF6",
           "caxis": {
            "gridcolor": "white",
            "linecolor": "white",
            "ticks": ""
           }
          },
          "title": {
           "x": 0.05
          },
          "xaxis": {
           "automargin": true,
           "gridcolor": "white",
           "linecolor": "white",
           "ticks": "",
           "title": {
            "standoff": 15
           },
           "zerolinecolor": "white",
           "zerolinewidth": 2
          },
          "yaxis": {
           "automargin": true,
           "gridcolor": "white",
           "linecolor": "white",
           "ticks": "",
           "title": {
            "standoff": 15
           },
           "zerolinecolor": "white",
           "zerolinewidth": 2
          }
         }
        },
        "xaxis": {
         "anchor": "y",
         "domain": [
          0,
          1
         ],
         "title": {
          "text": "epoch"
         }
        },
        "yaxis": {
         "anchor": "x",
         "domain": [
          0,
          1
         ],
         "title": {
          "text": "value"
         }
        }
       }
      }
     },
     "metadata": {},
     "output_type": "display_data"
    }
   ],
   "source": [
    "\n",
    "metrics = pd.read_csv(\"logs/my_model/version_2/metrics.csv\")\n",
    "metrics = metrics.groupby(\"epoch\").mean().reset_index()\n",
    "metric = \"mcc\"\n",
    "px.line(metrics, x=\"epoch\", y=[f\"train_{metric}\", f\"val_{metric}\"]).show()"
   ]
  },
  {
   "cell_type": "code",
   "execution_count": 46,
   "id": "b1fe92b8",
   "metadata": {},
   "outputs": [
    {
     "data": {
      "text/plain": [
       "True"
      ]
     },
     "execution_count": 46,
     "metadata": {},
     "output_type": "execute_result"
    }
   ],
   "source": [
    "13//4 == int(13/4)"
   ]
  }
 ],
 "metadata": {
  "kernelspec": {
   "display_name": "esm",
   "language": "python",
   "name": "python3"
  },
  "language_info": {
   "codemirror_mode": {
    "name": "ipython",
    "version": 3
   },
   "file_extension": ".py",
   "mimetype": "text/x-python",
   "name": "python",
   "nbconvert_exporter": "python",
   "pygments_lexer": "ipython3",
   "version": "3.11.13"
  }
 },
 "nbformat": 4,
 "nbformat_minor": 5
}
